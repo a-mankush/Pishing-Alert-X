{
 "cells": [
  {
   "cell_type": "code",
   "execution_count": 205,
   "id": "238fda3e-9a95-4d7f-a6ec-3cab81ae0b1a",
   "metadata": {},
   "outputs": [],
   "source": [
    "import matplotlib.pyplot as plt\n",
    "import numpy as np\n",
    "import pandas as pd\n",
    "import seaborn as sns"
   ]
  },
  {
   "cell_type": "code",
   "execution_count": 3,
   "id": "dd92b2d3-7053-4019-a39f-14d527593ce6",
   "metadata": {},
   "outputs": [
    {
     "data": {
      "text/html": [
       "        <script type=\"text/javascript\">\n",
       "        window.PlotlyConfig = {MathJaxConfig: 'local'};\n",
       "        if (window.MathJax && window.MathJax.Hub && window.MathJax.Hub.Config) {window.MathJax.Hub.Config({SVG: {font: \"STIX-Web\"}});}\n",
       "        if (typeof require !== 'undefined') {\n",
       "        require.undef(\"plotly\");\n",
       "        requirejs.config({\n",
       "            paths: {\n",
       "                'plotly': ['https://cdn.plot.ly/plotly-2.20.0.min']\n",
       "            }\n",
       "        });\n",
       "        require(['plotly'], function(Plotly) {\n",
       "            window._Plotly = Plotly;\n",
       "        });\n",
       "        }\n",
       "        </script>\n",
       "        "
      ]
     },
     "metadata": {},
     "output_type": "display_data"
    },
    {
     "data": {
      "text/html": [
       "        <script type=\"text/javascript\">\n",
       "        window.PlotlyConfig = {MathJaxConfig: 'local'};\n",
       "        if (window.MathJax && window.MathJax.Hub && window.MathJax.Hub.Config) {window.MathJax.Hub.Config({SVG: {font: \"STIX-Web\"}});}\n",
       "        if (typeof require !== 'undefined') {\n",
       "        require.undef(\"plotly\");\n",
       "        requirejs.config({\n",
       "            paths: {\n",
       "                'plotly': ['https://cdn.plot.ly/plotly-2.20.0.min']\n",
       "            }\n",
       "        });\n",
       "        require(['plotly'], function(Plotly) {\n",
       "            window._Plotly = Plotly;\n",
       "        });\n",
       "        }\n",
       "        </script>\n",
       "        "
      ]
     },
     "metadata": {},
     "output_type": "display_data"
    }
   ],
   "source": [
    "import cufflinks as cf\n",
    "\n",
    "from plotly.offline import download_plotlyjs, init_notebook_mode\n",
    "\n",
    "init_notebook_mode(connected=True)\n",
    "\n",
    "cf.go_offline()"
   ]
  },
  {
   "cell_type": "code",
   "execution_count": 4,
   "id": "8040b78e-8a56-496f-8b02-ff929599ce0e",
   "metadata": {},
   "outputs": [],
   "source": [
    "df = pd.read_csv(\"data/dataset_B_05_2020.csv\")"
   ]
  },
  {
   "cell_type": "code",
   "execution_count": 5,
   "id": "9dcb84cb-0585-4449-9e1b-e669af64136a",
   "metadata": {},
   "outputs": [
    {
     "data": {
      "text/html": [
       "<div>\n",
       "<style scoped>\n",
       "    .dataframe tbody tr th:only-of-type {\n",
       "        vertical-align: middle;\n",
       "    }\n",
       "\n",
       "    .dataframe tbody tr th {\n",
       "        vertical-align: top;\n",
       "    }\n",
       "\n",
       "    .dataframe thead th {\n",
       "        text-align: right;\n",
       "    }\n",
       "</style>\n",
       "<table border=\"1\" class=\"dataframe\">\n",
       "  <thead>\n",
       "    <tr style=\"text-align: right;\">\n",
       "      <th></th>\n",
       "      <th>url</th>\n",
       "      <th>length_url</th>\n",
       "      <th>length_hostname</th>\n",
       "      <th>ip</th>\n",
       "      <th>nb_dots</th>\n",
       "      <th>nb_hyphens</th>\n",
       "      <th>nb_at</th>\n",
       "      <th>nb_qm</th>\n",
       "      <th>nb_and</th>\n",
       "      <th>nb_or</th>\n",
       "      <th>...</th>\n",
       "      <th>domain_in_title</th>\n",
       "      <th>domain_with_copyright</th>\n",
       "      <th>whois_registered_domain</th>\n",
       "      <th>domain_registration_length</th>\n",
       "      <th>domain_age</th>\n",
       "      <th>web_traffic</th>\n",
       "      <th>dns_record</th>\n",
       "      <th>google_index</th>\n",
       "      <th>page_rank</th>\n",
       "      <th>status</th>\n",
       "    </tr>\n",
       "  </thead>\n",
       "  <tbody>\n",
       "    <tr>\n",
       "      <th>0</th>\n",
       "      <td>http://www.crestonwood.com/router.php</td>\n",
       "      <td>37</td>\n",
       "      <td>19</td>\n",
       "      <td>0</td>\n",
       "      <td>3</td>\n",
       "      <td>0</td>\n",
       "      <td>0</td>\n",
       "      <td>0</td>\n",
       "      <td>0</td>\n",
       "      <td>0</td>\n",
       "      <td>...</td>\n",
       "      <td>0</td>\n",
       "      <td>1</td>\n",
       "      <td>0</td>\n",
       "      <td>45</td>\n",
       "      <td>-1</td>\n",
       "      <td>0</td>\n",
       "      <td>1</td>\n",
       "      <td>1</td>\n",
       "      <td>4</td>\n",
       "      <td>legitimate</td>\n",
       "    </tr>\n",
       "    <tr>\n",
       "      <th>1</th>\n",
       "      <td>http://shadetreetechnology.com/V4/validation/a...</td>\n",
       "      <td>77</td>\n",
       "      <td>23</td>\n",
       "      <td>1</td>\n",
       "      <td>1</td>\n",
       "      <td>0</td>\n",
       "      <td>0</td>\n",
       "      <td>0</td>\n",
       "      <td>0</td>\n",
       "      <td>0</td>\n",
       "      <td>...</td>\n",
       "      <td>1</td>\n",
       "      <td>0</td>\n",
       "      <td>0</td>\n",
       "      <td>77</td>\n",
       "      <td>5767</td>\n",
       "      <td>0</td>\n",
       "      <td>0</td>\n",
       "      <td>1</td>\n",
       "      <td>2</td>\n",
       "      <td>phishing</td>\n",
       "    </tr>\n",
       "    <tr>\n",
       "      <th>2</th>\n",
       "      <td>https://support-appleld.com.secureupdate.duila...</td>\n",
       "      <td>126</td>\n",
       "      <td>50</td>\n",
       "      <td>1</td>\n",
       "      <td>4</td>\n",
       "      <td>1</td>\n",
       "      <td>0</td>\n",
       "      <td>1</td>\n",
       "      <td>2</td>\n",
       "      <td>0</td>\n",
       "      <td>...</td>\n",
       "      <td>1</td>\n",
       "      <td>0</td>\n",
       "      <td>0</td>\n",
       "      <td>14</td>\n",
       "      <td>4004</td>\n",
       "      <td>5828815</td>\n",
       "      <td>0</td>\n",
       "      <td>1</td>\n",
       "      <td>0</td>\n",
       "      <td>phishing</td>\n",
       "    </tr>\n",
       "    <tr>\n",
       "      <th>3</th>\n",
       "      <td>http://rgipt.ac.in</td>\n",
       "      <td>18</td>\n",
       "      <td>11</td>\n",
       "      <td>0</td>\n",
       "      <td>2</td>\n",
       "      <td>0</td>\n",
       "      <td>0</td>\n",
       "      <td>0</td>\n",
       "      <td>0</td>\n",
       "      <td>0</td>\n",
       "      <td>...</td>\n",
       "      <td>1</td>\n",
       "      <td>0</td>\n",
       "      <td>0</td>\n",
       "      <td>62</td>\n",
       "      <td>-1</td>\n",
       "      <td>107721</td>\n",
       "      <td>0</td>\n",
       "      <td>0</td>\n",
       "      <td>3</td>\n",
       "      <td>legitimate</td>\n",
       "    </tr>\n",
       "    <tr>\n",
       "      <th>4</th>\n",
       "      <td>http://www.iracing.com/tracks/gateway-motorspo...</td>\n",
       "      <td>55</td>\n",
       "      <td>15</td>\n",
       "      <td>0</td>\n",
       "      <td>2</td>\n",
       "      <td>2</td>\n",
       "      <td>0</td>\n",
       "      <td>0</td>\n",
       "      <td>0</td>\n",
       "      <td>0</td>\n",
       "      <td>...</td>\n",
       "      <td>0</td>\n",
       "      <td>1</td>\n",
       "      <td>0</td>\n",
       "      <td>224</td>\n",
       "      <td>8175</td>\n",
       "      <td>8725</td>\n",
       "      <td>0</td>\n",
       "      <td>0</td>\n",
       "      <td>6</td>\n",
       "      <td>legitimate</td>\n",
       "    </tr>\n",
       "  </tbody>\n",
       "</table>\n",
       "<p>5 rows × 89 columns</p>\n",
       "</div>"
      ],
      "text/plain": [
       "                                                 url  length_url  \\\n",
       "0              http://www.crestonwood.com/router.php          37   \n",
       "1  http://shadetreetechnology.com/V4/validation/a...          77   \n",
       "2  https://support-appleld.com.secureupdate.duila...         126   \n",
       "3                                 http://rgipt.ac.in          18   \n",
       "4  http://www.iracing.com/tracks/gateway-motorspo...          55   \n",
       "\n",
       "   length_hostname  ip  nb_dots  nb_hyphens  nb_at  nb_qm  nb_and  nb_or  ...  \\\n",
       "0               19   0        3           0      0      0       0      0  ...   \n",
       "1               23   1        1           0      0      0       0      0  ...   \n",
       "2               50   1        4           1      0      1       2      0  ...   \n",
       "3               11   0        2           0      0      0       0      0  ...   \n",
       "4               15   0        2           2      0      0       0      0  ...   \n",
       "\n",
       "   domain_in_title  domain_with_copyright  whois_registered_domain  \\\n",
       "0                0                      1                        0   \n",
       "1                1                      0                        0   \n",
       "2                1                      0                        0   \n",
       "3                1                      0                        0   \n",
       "4                0                      1                        0   \n",
       "\n",
       "   domain_registration_length  domain_age  web_traffic  dns_record  \\\n",
       "0                          45          -1            0           1   \n",
       "1                          77        5767            0           0   \n",
       "2                          14        4004      5828815           0   \n",
       "3                          62          -1       107721           0   \n",
       "4                         224        8175         8725           0   \n",
       "\n",
       "   google_index  page_rank      status  \n",
       "0             1          4  legitimate  \n",
       "1             1          2    phishing  \n",
       "2             1          0    phishing  \n",
       "3             0          3  legitimate  \n",
       "4             0          6  legitimate  \n",
       "\n",
       "[5 rows x 89 columns]"
      ]
     },
     "execution_count": 5,
     "metadata": {},
     "output_type": "execute_result"
    }
   ],
   "source": [
    "df.head()"
   ]
  },
  {
   "cell_type": "code",
   "execution_count": 6,
   "id": "ca4caca1-20e6-489d-ba83-5d5932dd31f6",
   "metadata": {},
   "outputs": [
    {
     "name": "stdout",
     "output_type": "stream",
     "text": [
      "(11430, 89)\n"
     ]
    }
   ],
   "source": [
    "print(df.shape)"
   ]
  },
  {
   "cell_type": "markdown",
   "id": "dde15c86-27ac-4b4f-9bae-b07401327696",
   "metadata": {},
   "source": [
    "### Observations\n",
    "- No null value\n",
    "- No duplicate values\n",
    "- Have columns with only one unique values (They have no impact) "
   ]
  },
  {
   "cell_type": "code",
   "execution_count": 7,
   "id": "7cb9ddae-affa-4a8e-912f-3f4bf0b2c755",
   "metadata": {},
   "outputs": [
    {
     "name": "stdout",
     "output_type": "stream",
     "text": [
      "NAN : 0\n",
      "Duplicates : 0\n"
     ]
    }
   ],
   "source": [
    "print(\"NAN :\", df.isna().values.sum())\n",
    "print(\"Duplicates :\", df.duplicated().values.sum())"
   ]
  },
  {
   "cell_type": "code",
   "execution_count": 8,
   "id": "9efa9532-acda-4f75-9f52-e4601e530089",
   "metadata": {},
   "outputs": [
    {
     "data": {
      "text/plain": [
       "array([11429,   324,    83,     2,    19,    27,     5,     4,    15,\n",
       "           1,    16,    17,     2,    25,    22,     2,     6,     5,\n",
       "          15,     5,     9,     3,     7,     2,     5,     2,  1414,\n",
       "         241,     2,     2,     2,     2,     2,     3,     2,     2,\n",
       "           2,     2,     7,     2,    54,    55,    25,    34,    33,\n",
       "         119,    49,   120,   896,   174,   757,     9,     2,     2,\n",
       "           2,     2,     3,   691,  3131,  3131,     1,    33,     1,\n",
       "         894,     1,   635,     2,     2,   473,     1,   490,   490,\n",
       "           1,     2,     2,  1083,     2,     2,     2,     2,     2,\n",
       "           2,  1659,  4430,  4744,     2,     2,    11,     2],\n",
       "      dtype=int64)"
      ]
     },
     "execution_count": 8,
     "metadata": {},
     "output_type": "execute_result"
    }
   ],
   "source": [
    "df.nunique().values"
   ]
  },
  {
   "cell_type": "code",
   "execution_count": 9,
   "id": "7f3e8fc3-b457-49d1-9a4e-e61c837bc866",
   "metadata": {},
   "outputs": [],
   "source": [
    "single_val_col = [var for var in list(df.columns) if df[var].nunique() == 1]\n",
    "single_val_col.append(\"url\")"
   ]
  },
  {
   "cell_type": "code",
   "execution_count": 10,
   "id": "b6415c72-2232-4016-8a86-031cc9e43565",
   "metadata": {},
   "outputs": [],
   "source": [
    "# Droping the colums with unique value less than one\n",
    "df.drop(columns=single_val_col, inplace=True)"
   ]
  },
  {
   "cell_type": "code",
   "execution_count": 11,
   "id": "2f4a97c5-3d11-474f-8898-dd9a567c9ed5",
   "metadata": {},
   "outputs": [],
   "source": [
    "# OHE status\n",
    "df = pd.get_dummies(data=df, columns=['status'], drop_first=True)"
   ]
  },
  {
   "cell_type": "code",
   "execution_count": 12,
   "id": "8de1d9f7-e41e-4bcc-b093-2546de79816e",
   "metadata": {},
   "outputs": [
    {
     "data": {
      "image/png": "[encoded data removed]",
      "text/plain": [
       "<Figure size 1600x800 with 1 Axes>"
      ]
     },
     "metadata": {},
     "output_type": "display_data"
    },
    {
     "data": {
      "text/plain": [
       "<Figure size 640x480 with 0 Axes>"
      ]
     },
     "metadata": {},
     "output_type": "display_data"
    }
   ],
   "source": [
    "# Plot correlation\n",
    "corr = df.corr()['status_phishing']\n",
    "corr.plot(kind='bar', figsize=(16, 8))\n",
    "\n",
    "\n",
    "plt.axhline(y=0.3, color='red')\n",
    "plt.axhline(y=-0.3, color='red')\n",
    "\n",
    "\n",
    "plt.show()\n",
    "\n",
    "\n",
    "plt.savefig('correlation_plot.png')"
   ]
  },
  {
   "cell_type": "markdown",
   "id": "bfc0bff3-f8cc-4ac6-b9e8-610fd3e4c476",
   "metadata": {},
   "source": [
    "### Feature Selection"
   ]
  },
  {
   "cell_type": "code",
   "execution_count": 13,
   "id": "200930cd-d3fc-4887-bb61-f00c3d524522",
   "metadata": {},
   "outputs": [],
   "source": [
    "from sklearn.linear_model import Lasso\n",
    "from sklearn.feature_selection import SelectFromModel"
   ]
  },
  {
   "cell_type": "code",
   "execution_count": 14,
   "id": "5a19057a-a5db-45e7-9405-6f6046d0e307",
   "metadata": {},
   "outputs": [],
   "source": [
    "X = df.drop(columns=['status_phishing'])\n",
    "y = df['status_phishing']"
   ]
  },
  {
   "cell_type": "code",
   "execution_count": 15,
   "id": "809b1f27-5de3-4f0b-a325-5ac19dd77085",
   "metadata": {},
   "outputs": [
    {
     "data": {
      "text/html": [
       "<style>#sk-container-id-1 {color: black;background-color: white;}#sk-container-id-1 pre{padding: 0;}#sk-container-id-1 div.sk-toggleable {background-color: white;}#sk-container-id-1 label.sk-toggleable__label {cursor: pointer;display: block;width: 100%;margin-bottom: 0;padding: 0.3em;box-sizing: border-box;text-align: center;}#sk-container-id-1 label.sk-toggleable__label-arrow:before {content: \"▸\";float: left;margin-right: 0.25em;color: #696969;}#sk-container-id-1 label.sk-toggleable__label-arrow:hover:before {color: black;}#sk-container-id-1 div.sk-estimator:hover label.sk-toggleable__label-arrow:before {color: black;}#sk-container-id-1 div.sk-toggleable__content {max-height: 0;max-width: 0;overflow: hidden;text-align: left;background-color: #f0f8ff;}#sk-container-id-1 div.sk-toggleable__content pre {margin: 0.2em;color: black;border-radius: 0.25em;background-color: #f0f8ff;}#sk-container-id-1 input.sk-toggleable__control:checked~div.sk-toggleable__content {max-height: 200px;max-width: 100%;overflow: auto;}#sk-container-id-1 input.sk-toggleable__control:checked~label.sk-toggleable__label-arrow:before {content: \"▾\";}#sk-container-id-1 div.sk-estimator input.sk-toggleable__control:checked~label.sk-toggleable__label {background-color: #d4ebff;}#sk-container-id-1 div.sk-label input.sk-toggleable__control:checked~label.sk-toggleable__label {background-color: #d4ebff;}#sk-container-id-1 input.sk-hidden--visually {border: 0;clip: rect(1px 1px 1px 1px);clip: rect(1px, 1px, 1px, 1px);height: 1px;margin: -1px;overflow: hidden;padding: 0;position: absolute;width: 1px;}#sk-container-id-1 div.sk-estimator {font-family: monospace;background-color: #f0f8ff;border: 1px dotted black;border-radius: 0.25em;box-sizing: border-box;margin-bottom: 0.5em;}#sk-container-id-1 div.sk-estimator:hover {background-color: #d4ebff;}#sk-container-id-1 div.sk-parallel-item::after {content: \"\";width: 100%;border-bottom: 1px solid gray;flex-grow: 1;}#sk-container-id-1 div.sk-label:hover label.sk-toggleable__label {background-color: #d4ebff;}#sk-container-id-1 div.sk-serial::before {content: \"\";position: absolute;border-left: 1px solid gray;box-sizing: border-box;top: 0;bottom: 0;left: 50%;z-index: 0;}#sk-container-id-1 div.sk-serial {display: flex;flex-direction: column;align-items: center;background-color: white;padding-right: 0.2em;padding-left: 0.2em;position: relative;}#sk-container-id-1 div.sk-item {position: relative;z-index: 1;}#sk-container-id-1 div.sk-parallel {display: flex;align-items: stretch;justify-content: center;background-color: white;position: relative;}#sk-container-id-1 div.sk-item::before, #sk-container-id-1 div.sk-parallel-item::before {content: \"\";position: absolute;border-left: 1px solid gray;box-sizing: border-box;top: 0;bottom: 0;left: 50%;z-index: -1;}#sk-container-id-1 div.sk-parallel-item {display: flex;flex-direction: column;z-index: 1;position: relative;background-color: white;}#sk-container-id-1 div.sk-parallel-item:first-child::after {align-self: flex-end;width: 50%;}#sk-container-id-1 div.sk-parallel-item:last-child::after {align-self: flex-start;width: 50%;}#sk-container-id-1 div.sk-parallel-item:only-child::after {width: 0;}#sk-container-id-1 div.sk-dashed-wrapped {border: 1px dashed gray;margin: 0 0.4em 0.5em 0.4em;box-sizing: border-box;padding-bottom: 0.4em;background-color: white;}#sk-container-id-1 div.sk-label label {font-family: monospace;font-weight: bold;display: inline-block;line-height: 1.2em;}#sk-container-id-1 div.sk-label-container {text-align: center;}#sk-container-id-1 div.sk-container {/* jupyter's `normalize.less` sets `[hidden] { display: none; }` but bootstrap.min.css set `[hidden] { display: none !important; }` so we also need the `!important` here to be able to override the default hidden behavior on the sphinx rendered scikit-learn.org. See: https://github.com/scikit-learn/scikit-learn/issues/21755 */display: inline-block !important;position: relative;}#sk-container-id-1 div.sk-text-repr-fallback {display: none;}</style><div id=\"sk-container-id-1\" class=\"sk-top-container\"><div class=\"sk-text-repr-fallback\"><pre>SelectFromModel(estimator=Lasso(alpha=0.001, random_state=0))</pre><b>In a Jupyter environment, please rerun this cell to show the HTML representation or trust the notebook. <br />On GitHub, the HTML representation is unable to render, please try loading this page with nbviewer.org.</b></div><div class=\"sk-container\" hidden><div class=\"sk-item sk-dashed-wrapped\"><div class=\"sk-label-container\"><div class=\"sk-label sk-toggleable\"><input class=\"sk-toggleable__control sk-hidden--visually\" id=\"sk-estimator-id-1\" type=\"checkbox\" ><label for=\"sk-estimator-id-1\" class=\"sk-toggleable__label sk-toggleable__label-arrow\">SelectFromModel</label><div class=\"sk-toggleable__content\"><pre>SelectFromModel(estimator=Lasso(alpha=0.001, random_state=0))</pre></div></div></div><div class=\"sk-parallel\"><div class=\"sk-parallel-item\"><div class=\"sk-item\"><div class=\"sk-label-container\"><div class=\"sk-label sk-toggleable\"><input class=\"sk-toggleable__control sk-hidden--visually\" id=\"sk-estimator-id-2\" type=\"checkbox\" ><label for=\"sk-estimator-id-2\" class=\"sk-toggleable__label sk-toggleable__label-arrow\">estimator: Lasso</label><div class=\"sk-toggleable__content\"><pre>Lasso(alpha=0.001, random_state=0)</pre></div></div></div><div class=\"sk-serial\"><div class=\"sk-item\"><div class=\"sk-estimator sk-toggleable\"><input class=\"sk-toggleable__control sk-hidden--visually\" id=\"sk-estimator-id-3\" type=\"checkbox\" ><label for=\"sk-estimator-id-3\" class=\"sk-toggleable__label sk-toggleable__label-arrow\">Lasso</label><div class=\"sk-toggleable__content\"><pre>Lasso(alpha=0.001, random_state=0)</pre></div></div></div></div></div></div></div></div></div></div>"
      ],
      "text/plain": [
       "SelectFromModel(estimator=Lasso(alpha=0.001, random_state=0))"
      ]
     },
     "execution_count": 15,
     "metadata": {},
     "output_type": "execute_result"
    }
   ],
   "source": [
    "sel_ = SelectFromModel(Lasso(alpha=0.001, random_state=0))\n",
    "\n",
    "sel_.fit(X, y)"
   ]
  },
  {
   "cell_type": "code",
   "execution_count": 16,
   "id": "a60a8293-f7fd-4019-81b8-5c338cbe4ad3",
   "metadata": {},
   "outputs": [
    {
     "data": {
      "text/plain": [
       "50"
      ]
     },
     "execution_count": 16,
     "metadata": {},
     "output_type": "execute_result"
    }
   ],
   "source": [
    "sel_.get_support().sum()"
   ]
  },
  {
   "cell_type": "code",
   "execution_count": 17,
   "id": "2249d95b-af58-4b23-8847-09cb1bc963e6",
   "metadata": {},
   "outputs": [
    {
     "name": "stdout",
     "output_type": "stream",
     "text": [
      "total features: 81\n",
      "selected features: 50\n",
      "features with coefficients shrank to zero: 29\n"
     ]
    }
   ],
   "source": [
    "selected_feats = X.columns[(sel_.get_support())]\n",
    "\n",
    "print('total features: {}'.format((X.shape[1])))\n",
    "print('selected features: {}'.format(len(selected_feats)))\n",
    "print('features with coefficients shrank to zero: {}'.format(\n",
    "    np.sum(sel_.estimator_.coef_ == 0)))"
   ]
  },
  {
   "cell_type": "code",
   "execution_count": 18,
   "id": "d659b204-4088-4fc3-998e-34876a3c0c73",
   "metadata": {},
   "outputs": [
    {
     "data": {
      "text/plain": [
       "Index(['length_url', 'length_hostname', 'ip', 'nb_hyphens', 'nb_qm', 'nb_and',\n",
       "       'nb_eq', 'nb_underscore', 'nb_percent', 'nb_slash', 'nb_colon',\n",
       "       'nb_space', 'nb_www', 'nb_com', 'http_in_path', 'https_token',\n",
       "       'ratio_digits_host', 'prefix_suffix', 'shortening_service',\n",
       "       'nb_redirection', 'length_words_raw', 'char_repeat',\n",
       "       'shortest_words_raw', 'shortest_word_path', 'longest_words_raw',\n",
       "       'longest_word_host', 'longest_word_path', 'avg_words_raw',\n",
       "       'avg_word_host', 'avg_word_path', 'phish_hints', 'domain_in_brand',\n",
       "       'suspecious_tld', 'nb_hyperlinks', 'ratio_extHyperlinks', 'nb_extCSS',\n",
       "       'ratio_extRedirection', 'external_favicon', 'links_in_tags',\n",
       "       'ratio_intMedia', 'ratio_extMedia', 'safe_anchor', 'empty_title',\n",
       "       'domain_in_title', 'domain_with_copyright', 'whois_registered_domain',\n",
       "       'domain_registration_length', 'dns_record', 'google_index',\n",
       "       'page_rank'],\n",
       "      dtype='object')"
      ]
     },
     "execution_count": 18,
     "metadata": {},
     "output_type": "execute_result"
    }
   ],
   "source": [
    "selected_feats"
   ]
  },
  {
   "cell_type": "code",
   "execution_count": 126,
   "id": "948a2f83-e5d1-4e9f-be92-b81ce69fdd95",
   "metadata": {},
   "outputs": [],
   "source": [
    "from sklearn.model_selection import train_test_split, GridSearchCV"
   ]
  },
  {
   "cell_type": "code",
   "execution_count": 20,
   "id": "e52d2517-6907-4046-b046-1de5fae6a3dd",
   "metadata": {},
   "outputs": [],
   "source": [
    "X = df[selected_feats]"
   ]
  },
  {
   "cell_type": "code",
   "execution_count": 21,
   "id": "831a175a-0c41-4af3-a640-db83bb13ea7f",
   "metadata": {},
   "outputs": [],
   "source": [
    "y = df['status_phishing']"
   ]
  },
  {
   "cell_type": "code",
   "execution_count": 22,
   "id": "afd828d9-0973-4ba6-a58f-59e7648f8c0c",
   "metadata": {},
   "outputs": [
    {
     "data": {
      "text/plain": [
       "0    5715\n",
       "1    5715\n",
       "Name: status_phishing, dtype: int64"
      ]
     },
     "execution_count": 22,
     "metadata": {},
     "output_type": "execute_result"
    }
   ],
   "source": [
    "y.value_counts()"
   ]
  },
  {
   "cell_type": "code",
   "execution_count": 23,
   "id": "28cd84d1-0661-47c5-8bea-5812bf084493",
   "metadata": {},
   "outputs": [
    {
     "data": {
      "text/plain": [
       "((11430, 50), (11430,))"
      ]
     },
     "execution_count": 23,
     "metadata": {},
     "output_type": "execute_result"
    }
   ],
   "source": [
    "X.shape, y.shape"
   ]
  },
  {
   "cell_type": "code",
   "execution_count": 24,
   "id": "1264f7cf-8ccb-4a88-900a-66af55e65952",
   "metadata": {},
   "outputs": [],
   "source": [
    "X_train, X_test, y_train, y_test = train_test_split(X, y, test_size=0.2, random_state=42)"
   ]
  },
  {
   "cell_type": "code",
   "execution_count": 25,
   "id": "d242695e-e497-4940-88a5-985d1fd26775",
   "metadata": {},
   "outputs": [
    {
     "data": {
      "text/plain": [
       "((9144, 50), (2286, 50))"
      ]
     },
     "execution_count": 25,
     "metadata": {},
     "output_type": "execute_result"
    }
   ],
   "source": [
    "X_train.shape, X_test.shape"
   ]
  },
  {
   "cell_type": "code",
   "execution_count": 26,
   "id": "3b8dda29-f5a2-4e1b-bceb-d2b24c90a5fc",
   "metadata": {},
   "outputs": [
    {
     "data": {
      "text/plain": [
       "((9144,), (2286,))"
      ]
     },
     "execution_count": 26,
     "metadata": {},
     "output_type": "execute_result"
    }
   ],
   "source": [
    "y_train.shape, y_test.shape"
   ]
  },
  {
   "cell_type": "code",
   "execution_count": 27,
   "id": "a1b082b7-56bb-4f75-ac88-2f765a5995f9",
   "metadata": {},
   "outputs": [],
   "source": [
    "from sklearn.preprocessing import StandardScaler"
   ]
  },
  {
   "cell_type": "code",
   "execution_count": 28,
   "id": "76939e5d-1cb5-4d85-9f8a-b7396ba96b37",
   "metadata": {},
   "outputs": [],
   "source": [
    "scaler = StandardScaler()"
   ]
  },
  {
   "cell_type": "code",
   "execution_count": 29,
   "id": "bac26789-fd5e-4c28-b222-c01411e63a19",
   "metadata": {},
   "outputs": [],
   "source": [
    "X_train_scaled = scaler.fit_transform(X_train)\n",
    "X_test_scaled = scaler.transform(X_test)"
   ]
  },
  {
   "cell_type": "code",
   "execution_count": null,
   "id": "58bd8981-ea10-49ca-83b3-0b0472f5146c",
   "metadata": {},
   "outputs": [],
   "source": []
  },
  {
   "cell_type": "code",
   "execution_count": null,
   "id": "0e413905-0cec-4129-a748-5e703118dfca",
   "metadata": {},
   "outputs": [],
   "source": []
  },
  {
   "cell_type": "code",
   "execution_count": null,
   "id": "2d93d05c-26f5-47b5-97eb-184352462caf",
   "metadata": {},
   "outputs": [],
   "source": []
  },
  {
   "cell_type": "code",
   "execution_count": 73,
   "id": "ef0aa8a9-2fcc-47b1-ba2f-2a4d51efe348",
   "metadata": {},
   "outputs": [],
   "source": [
    "import tensorflow\n",
    "from tensorflow import keras\n",
    "from keras.layers import Dense, Dropout, BatchNormalization\n",
    "from keras.models import Sequential\n",
    "from keras.callbacks import EarlyStopping\n",
    "from keras.regularizers import L2"
   ]
  },
  {
   "cell_type": "code",
   "execution_count": 176,
   "id": "bcadffb5-511f-4cb7-9d96-8c38f2f08076",
   "metadata": {},
   "outputs": [],
   "source": [
    "model = Sequential()\n",
    "\n",
    "model.add(Dense(128, activation=\"relu\", input_dim=X_train_scaled.shape[1], kernel_regularizer=L2()))\n",
    "model.add(BatchNormalization())\n",
    "model.add(Dropout(0.2))\n",
    "          \n",
    "model.add(Dense(128, activation='relu'))\n",
    "model.add(BatchNormalization())\n",
    "model.add(Dropout(0.5))\n",
    "\n",
    "model.add(Dense(128, activation='relu'))\n",
    "model.add(BatchNormalization())\n",
    "model.add(Dropout(0.5))\n",
    "\n",
    "model.add(Dense(64, activation='relu'))\n",
    "model.add(BatchNormalization())\n",
    "model.add(Dropout(0.5))\n",
    "\n",
    "model.add(Dense(1, activation='sigmoid'))\n",
    "\n",
    "early_stoping = EarlyStopping(monitor='val_accuracy', patience=20, verbose=1, restore_best_weights=True)\n",
    "\n",
    "model.compile(loss='binary_crossentropy', optimizer='Adam', metrics=['accuracy'])"
   ]
  },
  {
   "cell_type": "code",
   "execution_count": 186,
   "id": "eae54d9f-b9e2-484a-ba03-dab5d23c8f15",
   "metadata": {
    "scrolled": true
   },
   "outputs": [
    {
     "name": "stdout",
     "output_type": "stream",
     "text": [
      "Epoch 1/300\n",
      "286/286 [==============================] - 4s 13ms/step - loss: 0.1972 - accuracy: 0.9458 - val_loss: 0.1636 - val_accuracy: 0.9646\n",
      "Epoch 2/300\n",
      "286/286 [==============================] - 3s 12ms/step - loss: 0.1936 - accuracy: 0.9482 - val_loss: 0.1560 - val_accuracy: 0.9584\n",
      "Epoch 3/300\n",
      "286/286 [==============================] - 3s 12ms/step - loss: 0.1862 - accuracy: 0.9508 - val_loss: 0.1545 - val_accuracy: 0.9580\n",
      "Epoch 4/300\n",
      "286/286 [==============================] - 3s 12ms/step - loss: 0.1896 - accuracy: 0.9501 - val_loss: 0.1631 - val_accuracy: 0.9576\n",
      "Epoch 5/300\n",
      "286/286 [==============================] - 3s 12ms/step - loss: 0.1906 - accuracy: 0.9461 - val_loss: 0.1475 - val_accuracy: 0.9606\n",
      "Epoch 6/300\n",
      "286/286 [==============================] - 3s 12ms/step - loss: 0.1785 - accuracy: 0.9498 - val_loss: 0.1585 - val_accuracy: 0.9628\n",
      "Epoch 7/300\n",
      "286/286 [==============================] - 3s 12ms/step - loss: 0.1847 - accuracy: 0.9514 - val_loss: 0.1487 - val_accuracy: 0.9672\n",
      "Epoch 8/300\n",
      "286/286 [==============================] - 4s 13ms/step - loss: 0.1863 - accuracy: 0.9501 - val_loss: 0.1572 - val_accuracy: 0.9628\n",
      "Epoch 9/300\n",
      "286/286 [==============================] - 3s 12ms/step - loss: 0.1913 - accuracy: 0.9477 - val_loss: 0.1584 - val_accuracy: 0.9611\n",
      "Epoch 10/300\n",
      "286/286 [==============================] - 4s 13ms/step - loss: 0.1769 - accuracy: 0.9518 - val_loss: 0.1513 - val_accuracy: 0.9615\n",
      "Epoch 11/300\n",
      "286/286 [==============================] - 3s 12ms/step - loss: 0.1775 - accuracy: 0.9517 - val_loss: 0.1597 - val_accuracy: 0.9567\n",
      "Epoch 12/300\n",
      "286/286 [==============================] - 3s 12ms/step - loss: 0.1801 - accuracy: 0.9522 - val_loss: 0.1451 - val_accuracy: 0.9668\n",
      "Epoch 13/300\n",
      "286/286 [==============================] - 4s 12ms/step - loss: 0.1803 - accuracy: 0.9535 - val_loss: 0.1518 - val_accuracy: 0.9598\n",
      "Epoch 14/300\n",
      "286/286 [==============================] - 4s 12ms/step - loss: 0.1855 - accuracy: 0.9497 - val_loss: 0.1591 - val_accuracy: 0.9615\n",
      "Epoch 15/300\n",
      "286/286 [==============================] - 3s 12ms/step - loss: 0.1853 - accuracy: 0.9502 - val_loss: 0.1462 - val_accuracy: 0.9602\n",
      "Epoch 16/300\n",
      "286/286 [==============================] - 3s 12ms/step - loss: 0.1814 - accuracy: 0.9488 - val_loss: 0.1410 - val_accuracy: 0.9654\n",
      "Epoch 17/300\n",
      "286/286 [==============================] - 4s 12ms/step - loss: 0.1803 - accuracy: 0.9489 - val_loss: 0.1657 - val_accuracy: 0.9602\n",
      "Epoch 18/300\n",
      "286/286 [==============================] - 3s 12ms/step - loss: 0.1795 - accuracy: 0.9519 - val_loss: 0.1460 - val_accuracy: 0.9633\n",
      "Epoch 19/300\n",
      "286/286 [==============================] - 3s 11ms/step - loss: 0.1726 - accuracy: 0.9546 - val_loss: 0.1580 - val_accuracy: 0.9672\n",
      "Epoch 20/300\n",
      "286/286 [==============================] - 3s 12ms/step - loss: 0.1848 - accuracy: 0.9496 - val_loss: 0.1571 - val_accuracy: 0.9580\n",
      "Epoch 21/300\n",
      "286/286 [==============================] - 3s 12ms/step - loss: 0.1785 - accuracy: 0.9533 - val_loss: 0.1580 - val_accuracy: 0.9663\n",
      "Epoch 22/300\n",
      "286/286 [==============================] - 3s 12ms/step - loss: 0.1767 - accuracy: 0.9532 - val_loss: 0.1644 - val_accuracy: 0.9628\n",
      "Epoch 23/300\n",
      "286/286 [==============================] - 3s 12ms/step - loss: 0.1788 - accuracy: 0.9512 - val_loss: 0.1490 - val_accuracy: 0.9646\n",
      "Epoch 24/300\n",
      "286/286 [==============================] - 3s 12ms/step - loss: 0.1689 - accuracy: 0.9547 - val_loss: 0.1520 - val_accuracy: 0.9641\n",
      "Epoch 25/300\n",
      "286/286 [==============================] - 4s 12ms/step - loss: 0.1756 - accuracy: 0.9540 - val_loss: 0.1530 - val_accuracy: 0.9619\n",
      "Epoch 26/300\n",
      "286/286 [==============================] - 4s 13ms/step - loss: 0.1722 - accuracy: 0.9548 - val_loss: 0.1499 - val_accuracy: 0.9646\n",
      "Epoch 27/300\n",
      "284/286 [============================>.] - ETA: 0s - loss: 0.1743 - accuracy: 0.9511Restoring model weights from the end of the best epoch: 7.\n",
      "286/286 [==============================] - 4s 13ms/step - loss: 0.1741 - accuracy: 0.9510 - val_loss: 0.1408 - val_accuracy: 0.9668\n",
      "Epoch 27: early stopping\n"
     ]
    }
   ],
   "source": [
    "history = model.fit(X_train_scaled, y_train, epochs=300, validation_data=(X_test_scaled, y_test), callbacks=[early_stoping])"
   ]
  },
  {
   "cell_type": "code",
   "execution_count": 193,
   "id": "19bea809-9d80-419f-98fa-f3ce6054a699",
   "metadata": {},
   "outputs": [
    {
     "data": {
      "image/png": "[encoded data removed]",
      "text/plain": [
       "<Figure size 640x480 with 1 Axes>"
      ]
     },
     "metadata": {},
     "output_type": "display_data"
    }
   ],
   "source": [
    "plt.plot(history.history['accuracy'], color='r', label='Training accuracy') \n",
    "plt.plot(history.history['val_accuracy'], color='b', label='Validation accuracy') \n",
    "plt.xlabel(\"Epochs\")\n",
    "plt.ylabel(\"Accuracy\")\n",
    "\n",
    "plt.legend()\n",
    "\n",
    "plt.savefig(\"acc.png\")"
   ]
  },
  {
   "cell_type": "code",
   "execution_count": 188,
   "id": "0374745e-53b5-4146-b391-4f46468f631e",
   "metadata": {},
   "outputs": [
    {
     "data": {
      "image/png": "[encoded data removed]",
      "text/plain": [
       "<Figure size 640x480 with 1 Axes>"
      ]
     },
     "metadata": {},
     "output_type": "display_data"
    }
   ],
   "source": [
    "plt.plot(history.history['loss'], color='r', label='Training loss') \n",
    "plt.plot(history.history['val_loss'], color='b', label='Validation loss') \n",
    "plt.xlabel(\"Epochs\")\n",
    "plt.ylabel(\"Loss\")\n",
    "plt.legend()\n",
    "\n",
    "plt.savefig(\"loss.png\")"
   ]
  },
  {
   "cell_type": "code",
   "execution_count": 194,
   "id": "3eae8019-51c9-4758-98cc-48c7641b5664",
   "metadata": {},
   "outputs": [
    {
     "name": "stdout",
     "output_type": "stream",
     "text": [
      "286/286 [==============================] - 1s 4ms/step\n",
      "72/72 [==============================] - 0s 4ms/step\n"
     ]
    }
   ],
   "source": [
    "pred_train_prob = model.predict(X_train_scaled)\n",
    "pred_test_prob = model.predict(X_test_scaled)"
   ]
  },
  {
   "cell_type": "code",
   "execution_count": 195,
   "id": "6149890a-a333-4fff-a22a-8209b2022cb0",
   "metadata": {},
   "outputs": [],
   "source": [
    "from sklearn.metrics import classification_report, accuracy_score, confusion_matrix"
   ]
  },
  {
   "cell_type": "markdown",
   "id": "f48b0510-6e7f-4616-b99a-af791d1b43f2",
   "metadata": {},
   "source": [
    "### Predction for Test data"
   ]
  },
  {
   "cell_type": "code",
   "execution_count": 196,
   "id": "42551a0e-c243-4c30-ace5-04487822499e",
   "metadata": {},
   "outputs": [],
   "source": [
    "test_pred = np.where(pred_test_prob > 0.5, 1, 0)"
   ]
  },
  {
   "cell_type": "code",
   "execution_count": 197,
   "id": "4ee59970-076f-4b24-84cb-02f0fc9e5514",
   "metadata": {},
   "outputs": [
    {
     "name": "stdout",
     "output_type": "stream",
     "text": [
      "              precision    recall  f1-score   support\n",
      "\n",
      "           0       0.97      0.96      0.97      1164\n",
      "           1       0.96      0.97      0.97      1122\n",
      "\n",
      "    accuracy                           0.97      2286\n",
      "   macro avg       0.97      0.97      0.97      2286\n",
      "weighted avg       0.97      0.97      0.97      2286\n",
      "\n"
     ]
    }
   ],
   "source": [
    "print(classification_report(test_pred, y_test))"
   ]
  },
  {
   "cell_type": "code",
   "execution_count": 198,
   "id": "b814aad8-e3e9-4362-bff7-d2df2b3fdb61",
   "metadata": {},
   "outputs": [
    {
     "data": {
      "text/plain": [
       "array([[1123,   41],\n",
       "       [  34, 1088]], dtype=int64)"
      ]
     },
     "execution_count": 198,
     "metadata": {},
     "output_type": "execute_result"
    }
   ],
   "source": [
    "confusion_matrix(test_pred, y_test)"
   ]
  },
  {
   "cell_type": "code",
   "execution_count": 199,
   "id": "3c385658-b4de-4865-b0aa-fec5bd822166",
   "metadata": {},
   "outputs": [
    {
     "data": {
      "text/plain": [
       "0.9671916010498688"
      ]
     },
     "execution_count": 199,
     "metadata": {},
     "output_type": "execute_result"
    }
   ],
   "source": [
    "accuracy_score(test_pred, y_test)"
   ]
  },
  {
   "cell_type": "markdown",
   "id": "44508ece-bf18-428a-83a2-4df9a29af667",
   "metadata": {},
   "source": [
    "### Predition on Train Data"
   ]
  },
  {
   "cell_type": "code",
   "execution_count": 200,
   "id": "d18dfb54-881d-4d51-a809-9a4e9a73f521",
   "metadata": {},
   "outputs": [],
   "source": [
    "train_pred = np.where(pred_train_prob > 0.5, 1, 0)"
   ]
  },
  {
   "cell_type": "code",
   "execution_count": 201,
   "id": "7458d64e-6b45-4729-9fdd-ae8429bf28fc",
   "metadata": {},
   "outputs": [
    {
     "name": "stdout",
     "output_type": "stream",
     "text": [
      "              precision    recall  f1-score   support\n",
      "\n",
      "           0       0.97      0.97      0.97      4570\n",
      "           1       0.97      0.98      0.97      4574\n",
      "\n",
      "    accuracy                           0.97      9144\n",
      "   macro avg       0.97      0.97      0.97      9144\n",
      "weighted avg       0.97      0.97      0.97      9144\n",
      "\n"
     ]
    }
   ],
   "source": [
    "print(classification_report(train_pred, y_train))"
   ]
  },
  {
   "cell_type": "code",
   "execution_count": 203,
   "id": "3c10fe78-4a5f-4e7d-b2a6-291f38dea66c",
   "metadata": {},
   "outputs": [
    {
     "data": {
      "text/plain": [
       "array([[4444,  126],\n",
       "       [ 114, 4460]], dtype=int64)"
      ]
     },
     "execution_count": 203,
     "metadata": {},
     "output_type": "execute_result"
    }
   ],
   "source": [
    "confusion_matrix(train_pred, y_train)"
   ]
  },
  {
   "cell_type": "code",
   "execution_count": 204,
   "id": "8b6bd564-3d3a-4048-8059-08ed0dfcaf83",
   "metadata": {},
   "outputs": [
    {
     "data": {
      "text/plain": [
       "0.973753280839895"
      ]
     },
     "execution_count": 204,
     "metadata": {},
     "output_type": "execute_result"
    }
   ],
   "source": [
    "accuracy_score(train_pred, y_train)"
   ]
  },
  {
   "cell_type": "markdown",
   "id": "5e4a00e7-e043-47ae-9ac5-341a90bd875e",
   "metadata": {},
   "source": [
    "### Random Froest Classifier"
   ]
  },
  {
   "cell_type": "code",
   "execution_count": 175,
   "id": "213006ba-7f6d-406c-a4a9-2f7866db96ce",
   "metadata": {},
   "outputs": [],
   "source": [
    "from sklearn.ensemble import RandomForestClassifier"
   ]
  },
  {
   "cell_type": "code",
   "execution_count": 119,
   "id": "d9ffc02d-c2a8-4e8e-8c5f-bfb1d92f8cf0",
   "metadata": {},
   "outputs": [],
   "source": [
    "rfc = RandomForestClassifier()"
   ]
  },
  {
   "cell_type": "code",
   "execution_count": 120,
   "id": "afb9deb8-834a-45c5-bc9e-99653fef0204",
   "metadata": {
    "scrolled": true
   },
   "outputs": [
    {
     "data": {
      "text/html": [
       "<style>#sk-container-id-2 {color: black;background-color: white;}#sk-container-id-2 pre{padding: 0;}#sk-container-id-2 div.sk-toggleable {background-color: white;}#sk-container-id-2 label.sk-toggleable__label {cursor: pointer;display: block;width: 100%;margin-bottom: 0;padding: 0.3em;box-sizing: border-box;text-align: center;}#sk-container-id-2 label.sk-toggleable__label-arrow:before {content: \"▸\";float: left;margin-right: 0.25em;color: #696969;}#sk-container-id-2 label.sk-toggleable__label-arrow:hover:before {color: black;}#sk-container-id-2 div.sk-estimator:hover label.sk-toggleable__label-arrow:before {color: black;}#sk-container-id-2 div.sk-toggleable__content {max-height: 0;max-width: 0;overflow: hidden;text-align: left;background-color: #f0f8ff;}#sk-container-id-2 div.sk-toggleable__content pre {margin: 0.2em;color: black;border-radius: 0.25em;background-color: #f0f8ff;}#sk-container-id-2 input.sk-toggleable__control:checked~div.sk-toggleable__content {max-height: 200px;max-width: 100%;overflow: auto;}#sk-container-id-2 input.sk-toggleable__control:checked~label.sk-toggleable__label-arrow:before {content: \"▾\";}#sk-container-id-2 div.sk-estimator input.sk-toggleable__control:checked~label.sk-toggleable__label {background-color: #d4ebff;}#sk-container-id-2 div.sk-label input.sk-toggleable__control:checked~label.sk-toggleable__label {background-color: #d4ebff;}#sk-container-id-2 input.sk-hidden--visually {border: 0;clip: rect(1px 1px 1px 1px);clip: rect(1px, 1px, 1px, 1px);height: 1px;margin: -1px;overflow: hidden;padding: 0;position: absolute;width: 1px;}#sk-container-id-2 div.sk-estimator {font-family: monospace;background-color: #f0f8ff;border: 1px dotted black;border-radius: 0.25em;box-sizing: border-box;margin-bottom: 0.5em;}#sk-container-id-2 div.sk-estimator:hover {background-color: #d4ebff;}#sk-container-id-2 div.sk-parallel-item::after {content: \"\";width: 100%;border-bottom: 1px solid gray;flex-grow: 1;}#sk-container-id-2 div.sk-label:hover label.sk-toggleable__label {background-color: #d4ebff;}#sk-container-id-2 div.sk-serial::before {content: \"\";position: absolute;border-left: 1px solid gray;box-sizing: border-box;top: 0;bottom: 0;left: 50%;z-index: 0;}#sk-container-id-2 div.sk-serial {display: flex;flex-direction: column;align-items: center;background-color: white;padding-right: 0.2em;padding-left: 0.2em;position: relative;}#sk-container-id-2 div.sk-item {position: relative;z-index: 1;}#sk-container-id-2 div.sk-parallel {display: flex;align-items: stretch;justify-content: center;background-color: white;position: relative;}#sk-container-id-2 div.sk-item::before, #sk-container-id-2 div.sk-parallel-item::before {content: \"\";position: absolute;border-left: 1px solid gray;box-sizing: border-box;top: 0;bottom: 0;left: 50%;z-index: -1;}#sk-container-id-2 div.sk-parallel-item {display: flex;flex-direction: column;z-index: 1;position: relative;background-color: white;}#sk-container-id-2 div.sk-parallel-item:first-child::after {align-self: flex-end;width: 50%;}#sk-container-id-2 div.sk-parallel-item:last-child::after {align-self: flex-start;width: 50%;}#sk-container-id-2 div.sk-parallel-item:only-child::after {width: 0;}#sk-container-id-2 div.sk-dashed-wrapped {border: 1px dashed gray;margin: 0 0.4em 0.5em 0.4em;box-sizing: border-box;padding-bottom: 0.4em;background-color: white;}#sk-container-id-2 div.sk-label label {font-family: monospace;font-weight: bold;display: inline-block;line-height: 1.2em;}#sk-container-id-2 div.sk-label-container {text-align: center;}#sk-container-id-2 div.sk-container {/* jupyter's `normalize.less` sets `[hidden] { display: none; }` but bootstrap.min.css set `[hidden] { display: none !important; }` so we also need the `!important` here to be able to override the default hidden behavior on the sphinx rendered scikit-learn.org. See: https://github.com/scikit-learn/scikit-learn/issues/21755 */display: inline-block !important;position: relative;}#sk-container-id-2 div.sk-text-repr-fallback {display: none;}</style><div id=\"sk-container-id-2\" class=\"sk-top-container\"><div class=\"sk-text-repr-fallback\"><pre>RandomForestClassifier()</pre><b>In a Jupyter environment, please rerun this cell to show the HTML representation or trust the notebook. <br />On GitHub, the HTML representation is unable to render, please try loading this page with nbviewer.org.</b></div><div class=\"sk-container\" hidden><div class=\"sk-item\"><div class=\"sk-estimator sk-toggleable\"><input class=\"sk-toggleable__control sk-hidden--visually\" id=\"sk-estimator-id-4\" type=\"checkbox\" checked><label for=\"sk-estimator-id-4\" class=\"sk-toggleable__label sk-toggleable__label-arrow\">RandomForestClassifier</label><div class=\"sk-toggleable__content\"><pre>RandomForestClassifier()</pre></div></div></div></div></div>"
      ],
      "text/plain": [
       "RandomForestClassifier()"
      ]
     },
     "execution_count": 120,
     "metadata": {},
     "output_type": "execute_result"
    }
   ],
   "source": [
    "rfc.fit(X_train_scaled, y_train)"
   ]
  },
  {
   "cell_type": "code",
   "execution_count": 124,
   "id": "758216c7-290e-4422-9568-8d7351ae9074",
   "metadata": {},
   "outputs": [],
   "source": [
    "def eval_metrics(train_pred, y_train):\n",
    "    print(classification_report(train_pred, y_train))\n",
    "    print( )\n",
    "    print(confusion_matrix(train_pred, y_train))\n",
    "    print( )\n",
    "    print(accuracy_score(train_pred, y_train))"
   ]
  },
  {
   "cell_type": "code",
   "execution_count": 122,
   "id": "9bee6eaa-a886-49ed-851d-8a82a1e7757e",
   "metadata": {},
   "outputs": [],
   "source": [
    "test_pred_rfc = rfc.predict(X_test_scaled)"
   ]
  },
  {
   "cell_type": "code",
   "execution_count": 125,
   "id": "b1ff5f7f-ba1f-40b8-9d62-3b1de57d54d8",
   "metadata": {},
   "outputs": [
    {
     "name": "stdout",
     "output_type": "stream",
     "text": [
      "              precision    recall  f1-score   support\n",
      "\n",
      "           0       0.97      0.96      0.97      1165\n",
      "           1       0.96      0.97      0.97      1121\n",
      "\n",
      "    accuracy                           0.97      2286\n",
      "   macro avg       0.97      0.97      0.97      2286\n",
      "weighted avg       0.97      0.97      0.97      2286\n",
      "\n",
      "\n",
      "[[1123   42]\n",
      " [  34 1087]]\n",
      "\n",
      "0.9667541557305337\n"
     ]
    }
   ],
   "source": [
    "eval_metrics(test_pred_rfc, y_test)"
   ]
  },
  {
   "cell_type": "code",
   "execution_count": 130,
   "id": "32a0be0d-ff73-4f1c-a05d-a0a4129065a6",
   "metadata": {
    "scrolled": true
   },
   "outputs": [
    {
     "name": "stdout",
     "output_type": "stream",
     "text": [
      "Fitting 5 folds for each of 108 candidates, totalling 540 fits\n",
      "[CV 1/5] END max_depth=None, min_samples_leaf=1, min_samples_split=2, n_estimators=50;, score=0.962 total time=   1.8s\n",
      "[CV 2/5] END max_depth=None, min_samples_leaf=1, min_samples_split=2, n_estimators=50;, score=0.952 total time=   1.7s\n",
      "[CV 3/5] END max_depth=None, min_samples_leaf=1, min_samples_split=2, n_estimators=50;, score=0.968 total time=   1.7s\n",
      "[CV 4/5] END max_depth=None, min_samples_leaf=1, min_samples_split=2, n_estimators=50;, score=0.959 total time=   1.7s\n",
      "[CV 5/5] END max_depth=None, min_samples_leaf=1, min_samples_split=2, n_estimators=50;, score=0.960 total time=   1.7s\n",
      "[CV 1/5] END max_depth=None, min_samples_leaf=1, min_samples_split=2, n_estimators=100;, score=0.965 total time=   3.4s\n",
      "[CV 2/5] END max_depth=None, min_samples_leaf=1, min_samples_split=2, n_estimators=100;, score=0.958 total time=   3.5s\n",
      "[CV 3/5] END max_depth=None, min_samples_leaf=1, min_samples_split=2, n_estimators=100;, score=0.968 total time=   3.6s\n",
      "[CV 4/5] END max_depth=None, min_samples_leaf=1, min_samples_split=2, n_estimators=100;, score=0.961 total time=   3.7s\n",
      "[CV 5/5] END max_depth=None, min_samples_leaf=1, min_samples_split=2, n_estimators=100;, score=0.963 total time=   3.7s\n",
      "[CV 1/5] END max_depth=None, min_samples_leaf=1, min_samples_split=2, n_estimators=150;, score=0.960 total time=   5.2s\n",
      "[CV 2/5] END max_depth=None, min_samples_leaf=1, min_samples_split=2, n_estimators=150;, score=0.959 total time=   5.2s\n",
      "[CV 3/5] END max_depth=None, min_samples_leaf=1, min_samples_split=2, n_estimators=150;, score=0.968 total time=   5.2s\n",
      "[CV 4/5] END max_depth=None, min_samples_leaf=1, min_samples_split=2, n_estimators=150;, score=0.963 total time=   4.6s\n",
      "[CV 5/5] END max_depth=None, min_samples_leaf=1, min_samples_split=2, n_estimators=150;, score=0.962 total time=   2.0s\n",
      "[CV 1/5] END max_depth=None, min_samples_leaf=1, min_samples_split=5, n_estimators=50;, score=0.963 total time=   0.6s\n",
      "[CV 2/5] END max_depth=None, min_samples_leaf=1, min_samples_split=5, n_estimators=50;, score=0.955 total time=   0.5s\n",
      "[CV 3/5] END max_depth=None, min_samples_leaf=1, min_samples_split=5, n_estimators=50;, score=0.967 total time=   0.5s\n",
      "[CV 4/5] END max_depth=None, min_samples_leaf=1, min_samples_split=5, n_estimators=50;, score=0.962 total time=   0.6s\n",
      "[CV 5/5] END max_depth=None, min_samples_leaf=1, min_samples_split=5, n_estimators=50;, score=0.956 total time=   0.5s\n",
      "[CV 1/5] END max_depth=None, min_samples_leaf=1, min_samples_split=5, n_estimators=100;, score=0.961 total time=   1.2s\n",
      "[CV 2/5] END max_depth=None, min_samples_leaf=1, min_samples_split=5, n_estimators=100;, score=0.956 total time=   1.2s\n",
      "[CV 3/5] END max_depth=None, min_samples_leaf=1, min_samples_split=5, n_estimators=100;, score=0.969 total time=   1.2s\n",
      "[CV 4/5] END max_depth=None, min_samples_leaf=1, min_samples_split=5, n_estimators=100;, score=0.959 total time=   1.2s\n",
      "[CV 5/5] END max_depth=None, min_samples_leaf=1, min_samples_split=5, n_estimators=100;, score=0.961 total time=   1.2s\n",
      "[CV 1/5] END max_depth=None, min_samples_leaf=1, min_samples_split=5, n_estimators=150;, score=0.962 total time=   1.9s\n",
      "[CV 2/5] END max_depth=None, min_samples_leaf=1, min_samples_split=5, n_estimators=150;, score=0.957 total time=   1.7s\n",
      "[CV 3/5] END max_depth=None, min_samples_leaf=1, min_samples_split=5, n_estimators=150;, score=0.967 total time=   1.8s\n",
      "[CV 4/5] END max_depth=None, min_samples_leaf=1, min_samples_split=5, n_estimators=150;, score=0.963 total time=   1.7s\n",
      "[CV 5/5] END max_depth=None, min_samples_leaf=1, min_samples_split=5, n_estimators=150;, score=0.962 total time=   1.8s\n",
      "[CV 1/5] END max_depth=None, min_samples_leaf=1, min_samples_split=10, n_estimators=50;, score=0.962 total time=   0.5s\n",
      "[CV 2/5] END max_depth=None, min_samples_leaf=1, min_samples_split=10, n_estimators=50;, score=0.953 total time=   0.5s\n",
      "[CV 3/5] END max_depth=None, min_samples_leaf=1, min_samples_split=10, n_estimators=50;, score=0.964 total time=   0.5s\n",
      "[CV 4/5] END max_depth=None, min_samples_leaf=1, min_samples_split=10, n_estimators=50;, score=0.960 total time=   0.5s\n",
      "[CV 5/5] END max_depth=None, min_samples_leaf=1, min_samples_split=10, n_estimators=50;, score=0.957 total time=   0.5s\n",
      "[CV 1/5] END max_depth=None, min_samples_leaf=1, min_samples_split=10, n_estimators=100;, score=0.957 total time=   1.2s\n",
      "[CV 2/5] END max_depth=None, min_samples_leaf=1, min_samples_split=10, n_estimators=100;, score=0.954 total time=   1.1s\n",
      "[CV 3/5] END max_depth=None, min_samples_leaf=1, min_samples_split=10, n_estimators=100;, score=0.967 total time=   1.0s\n",
      "[CV 4/5] END max_depth=None, min_samples_leaf=1, min_samples_split=10, n_estimators=100;, score=0.959 total time=   1.2s\n",
      "[CV 5/5] END max_depth=None, min_samples_leaf=1, min_samples_split=10, n_estimators=100;, score=0.962 total time=   1.1s\n",
      "[CV 1/5] END max_depth=None, min_samples_leaf=1, min_samples_split=10, n_estimators=150;, score=0.958 total time=   1.8s\n",
      "[CV 2/5] END max_depth=None, min_samples_leaf=1, min_samples_split=10, n_estimators=150;, score=0.955 total time=   1.5s\n",
      "[CV 3/5] END max_depth=None, min_samples_leaf=1, min_samples_split=10, n_estimators=150;, score=0.965 total time=   1.8s\n",
      "[CV 4/5] END max_depth=None, min_samples_leaf=1, min_samples_split=10, n_estimators=150;, score=0.958 total time=   1.8s\n",
      "[CV 5/5] END max_depth=None, min_samples_leaf=1, min_samples_split=10, n_estimators=150;, score=0.960 total time=   1.8s\n",
      "[CV 1/5] END max_depth=None, min_samples_leaf=2, min_samples_split=2, n_estimators=50;, score=0.958 total time=   0.5s\n",
      "[CV 2/5] END max_depth=None, min_samples_leaf=2, min_samples_split=2, n_estimators=50;, score=0.956 total time=   0.5s\n",
      "[CV 3/5] END max_depth=None, min_samples_leaf=2, min_samples_split=2, n_estimators=50;, score=0.965 total time=   0.5s\n",
      "[CV 4/5] END max_depth=None, min_samples_leaf=2, min_samples_split=2, n_estimators=50;, score=0.962 total time=   0.6s\n",
      "[CV 5/5] END max_depth=None, min_samples_leaf=2, min_samples_split=2, n_estimators=50;, score=0.962 total time=   0.5s\n",
      "[CV 1/5] END max_depth=None, min_samples_leaf=2, min_samples_split=2, n_estimators=100;, score=0.958 total time=   1.2s\n",
      "[CV 2/5] END max_depth=None, min_samples_leaf=2, min_samples_split=2, n_estimators=100;, score=0.955 total time=   1.2s\n",
      "[CV 3/5] END max_depth=None, min_samples_leaf=2, min_samples_split=2, n_estimators=100;, score=0.964 total time=   1.1s\n",
      "[CV 4/5] END max_depth=None, min_samples_leaf=2, min_samples_split=2, n_estimators=100;, score=0.957 total time=   1.1s\n",
      "[CV 5/5] END max_depth=None, min_samples_leaf=2, min_samples_split=2, n_estimators=100;, score=0.960 total time=   1.0s\n",
      "[CV 1/5] END max_depth=None, min_samples_leaf=2, min_samples_split=2, n_estimators=150;, score=0.960 total time=   1.8s\n",
      "[CV 2/5] END max_depth=None, min_samples_leaf=2, min_samples_split=2, n_estimators=150;, score=0.954 total time=   1.7s\n",
      "[CV 3/5] END max_depth=None, min_samples_leaf=2, min_samples_split=2, n_estimators=150;, score=0.966 total time=   1.8s\n",
      "[CV 4/5] END max_depth=None, min_samples_leaf=2, min_samples_split=2, n_estimators=150;, score=0.963 total time=   2.0s\n",
      "[CV 5/5] END max_depth=None, min_samples_leaf=2, min_samples_split=2, n_estimators=150;, score=0.960 total time=   1.8s\n",
      "[CV 1/5] END max_depth=None, min_samples_leaf=2, min_samples_split=5, n_estimators=50;, score=0.957 total time=   0.5s\n",
      "[CV 2/5] END max_depth=None, min_samples_leaf=2, min_samples_split=5, n_estimators=50;, score=0.952 total time=   0.6s\n",
      "[CV 3/5] END max_depth=None, min_samples_leaf=2, min_samples_split=5, n_estimators=50;, score=0.962 total time=   0.6s\n",
      "[CV 4/5] END max_depth=None, min_samples_leaf=2, min_samples_split=5, n_estimators=50;, score=0.960 total time=   0.7s\n",
      "[CV 5/5] END max_depth=None, min_samples_leaf=2, min_samples_split=5, n_estimators=50;, score=0.957 total time=   0.6s\n",
      "[CV 1/5] END max_depth=None, min_samples_leaf=2, min_samples_split=5, n_estimators=100;, score=0.959 total time=   1.3s\n",
      "[CV 2/5] END max_depth=None, min_samples_leaf=2, min_samples_split=5, n_estimators=100;, score=0.956 total time=   1.2s\n",
      "[CV 3/5] END max_depth=None, min_samples_leaf=2, min_samples_split=5, n_estimators=100;, score=0.965 total time=   1.3s\n",
      "[CV 4/5] END max_depth=None, min_samples_leaf=2, min_samples_split=5, n_estimators=100;, score=0.961 total time=   1.2s\n",
      "[CV 5/5] END max_depth=None, min_samples_leaf=2, min_samples_split=5, n_estimators=100;, score=0.962 total time=   1.2s\n",
      "[CV 1/5] END max_depth=None, min_samples_leaf=2, min_samples_split=5, n_estimators=150;, score=0.960 total time=   1.8s\n",
      "[CV 2/5] END max_depth=None, min_samples_leaf=2, min_samples_split=5, n_estimators=150;, score=0.955 total time=   1.8s\n",
      "[CV 3/5] END max_depth=None, min_samples_leaf=2, min_samples_split=5, n_estimators=150;, score=0.967 total time=   1.7s\n",
      "[CV 4/5] END max_depth=None, min_samples_leaf=2, min_samples_split=5, n_estimators=150;, score=0.961 total time=   2.0s\n",
      "[CV 5/5] END max_depth=None, min_samples_leaf=2, min_samples_split=5, n_estimators=150;, score=0.958 total time=   1.9s\n",
      "[CV 1/5] END max_depth=None, min_samples_leaf=2, min_samples_split=10, n_estimators=50;, score=0.960 total time=   0.6s\n",
      "[CV 2/5] END max_depth=None, min_samples_leaf=2, min_samples_split=10, n_estimators=50;, score=0.951 total time=   0.6s\n",
      "[CV 3/5] END max_depth=None, min_samples_leaf=2, min_samples_split=10, n_estimators=50;, score=0.964 total time=   0.5s\n",
      "[CV 4/5] END max_depth=None, min_samples_leaf=2, min_samples_split=10, n_estimators=50;, score=0.961 total time=   0.6s\n",
      "[CV 5/5] END max_depth=None, min_samples_leaf=2, min_samples_split=10, n_estimators=50;, score=0.957 total time=   0.7s\n",
      "[CV 1/5] END max_depth=None, min_samples_leaf=2, min_samples_split=10, n_estimators=100;, score=0.956 total time=   1.2s\n",
      "[CV 2/5] END max_depth=None, min_samples_leaf=2, min_samples_split=10, n_estimators=100;, score=0.954 total time=   1.1s\n",
      "[CV 3/5] END max_depth=None, min_samples_leaf=2, min_samples_split=10, n_estimators=100;, score=0.963 total time=   1.0s\n",
      "[CV 4/5] END max_depth=None, min_samples_leaf=2, min_samples_split=10, n_estimators=100;, score=0.959 total time=   1.2s\n",
      "[CV 5/5] END max_depth=None, min_samples_leaf=2, min_samples_split=10, n_estimators=100;, score=0.957 total time=   1.1s\n",
      "[CV 1/5] END max_depth=None, min_samples_leaf=2, min_samples_split=10, n_estimators=150;, score=0.957 total time=   2.1s\n",
      "[CV 2/5] END max_depth=None, min_samples_leaf=2, min_samples_split=10, n_estimators=150;, score=0.957 total time=   1.8s\n",
      "[CV 3/5] END max_depth=None, min_samples_leaf=2, min_samples_split=10, n_estimators=150;, score=0.962 total time=   1.5s\n",
      "[CV 4/5] END max_depth=None, min_samples_leaf=2, min_samples_split=10, n_estimators=150;, score=0.962 total time=   1.6s\n",
      "[CV 5/5] END max_depth=None, min_samples_leaf=2, min_samples_split=10, n_estimators=150;, score=0.958 total time=   1.6s\n",
      "[CV 1/5] END max_depth=None, min_samples_leaf=4, min_samples_split=2, n_estimators=50;, score=0.956 total time=   0.5s\n",
      "[CV 2/5] END max_depth=None, min_samples_leaf=4, min_samples_split=2, n_estimators=50;, score=0.951 total time=   0.5s\n",
      "[CV 3/5] END max_depth=None, min_samples_leaf=4, min_samples_split=2, n_estimators=50;, score=0.962 total time=   0.5s\n",
      "[CV 4/5] END max_depth=None, min_samples_leaf=4, min_samples_split=2, n_estimators=50;, score=0.959 total time=   0.4s\n",
      "[CV 5/5] END max_depth=None, min_samples_leaf=4, min_samples_split=2, n_estimators=50;, score=0.957 total time=   0.5s\n",
      "[CV 1/5] END max_depth=None, min_samples_leaf=4, min_samples_split=2, n_estimators=100;, score=0.958 total time=   1.0s\n",
      "[CV 2/5] END max_depth=None, min_samples_leaf=4, min_samples_split=2, n_estimators=100;, score=0.954 total time=   1.0s\n",
      "[CV 3/5] END max_depth=None, min_samples_leaf=4, min_samples_split=2, n_estimators=100;, score=0.964 total time=   0.9s\n",
      "[CV 4/5] END max_depth=None, min_samples_leaf=4, min_samples_split=2, n_estimators=100;, score=0.957 total time=   1.0s\n",
      "[CV 5/5] END max_depth=None, min_samples_leaf=4, min_samples_split=2, n_estimators=100;, score=0.960 total time=   1.1s\n",
      "[CV 1/5] END max_depth=None, min_samples_leaf=4, min_samples_split=2, n_estimators=150;, score=0.955 total time=   1.6s\n",
      "[CV 2/5] END max_depth=None, min_samples_leaf=4, min_samples_split=2, n_estimators=150;, score=0.955 total time=   1.7s\n",
      "[CV 3/5] END max_depth=None, min_samples_leaf=4, min_samples_split=2, n_estimators=150;, score=0.964 total time=   1.7s\n",
      "[CV 4/5] END max_depth=None, min_samples_leaf=4, min_samples_split=2, n_estimators=150;, score=0.960 total time=   1.5s\n",
      "[CV 5/5] END max_depth=None, min_samples_leaf=4, min_samples_split=2, n_estimators=150;, score=0.956 total time=   1.8s\n",
      "[CV 1/5] END max_depth=None, min_samples_leaf=4, min_samples_split=5, n_estimators=50;, score=0.956 total time=   0.6s\n",
      "[CV 2/5] END max_depth=None, min_samples_leaf=4, min_samples_split=5, n_estimators=50;, score=0.952 total time=   0.5s\n",
      "[CV 3/5] END max_depth=None, min_samples_leaf=4, min_samples_split=5, n_estimators=50;, score=0.964 total time=   0.6s\n",
      "[CV 4/5] END max_depth=None, min_samples_leaf=4, min_samples_split=5, n_estimators=50;, score=0.960 total time=   0.5s\n",
      "[CV 5/5] END max_depth=None, min_samples_leaf=4, min_samples_split=5, n_estimators=50;, score=0.957 total time=   0.6s\n",
      "[CV 1/5] END max_depth=None, min_samples_leaf=4, min_samples_split=5, n_estimators=100;, score=0.957 total time=   1.1s\n",
      "[CV 2/5] END max_depth=None, min_samples_leaf=4, min_samples_split=5, n_estimators=100;, score=0.956 total time=   1.3s\n",
      "[CV 3/5] END max_depth=None, min_samples_leaf=4, min_samples_split=5, n_estimators=100;, score=0.962 total time=   1.1s\n",
      "[CV 4/5] END max_depth=None, min_samples_leaf=4, min_samples_split=5, n_estimators=100;, score=0.961 total time=   1.0s\n",
      "[CV 5/5] END max_depth=None, min_samples_leaf=4, min_samples_split=5, n_estimators=100;, score=0.958 total time=   1.1s\n",
      "[CV 1/5] END max_depth=None, min_samples_leaf=4, min_samples_split=5, n_estimators=150;, score=0.957 total time=   1.7s\n",
      "[CV 2/5] END max_depth=None, min_samples_leaf=4, min_samples_split=5, n_estimators=150;, score=0.955 total time=   1.5s\n",
      "[CV 3/5] END max_depth=None, min_samples_leaf=4, min_samples_split=5, n_estimators=150;, score=0.963 total time=   1.7s\n",
      "[CV 4/5] END max_depth=None, min_samples_leaf=4, min_samples_split=5, n_estimators=150;, score=0.958 total time=   1.5s\n",
      "[CV 5/5] END max_depth=None, min_samples_leaf=4, min_samples_split=5, n_estimators=150;, score=0.958 total time=   1.6s\n",
      "[CV 1/5] END max_depth=None, min_samples_leaf=4, min_samples_split=10, n_estimators=50;, score=0.956 total time=   0.4s\n",
      "[CV 2/5] END max_depth=None, min_samples_leaf=4, min_samples_split=10, n_estimators=50;, score=0.959 total time=   0.5s\n",
      "[CV 3/5] END max_depth=None, min_samples_leaf=4, min_samples_split=10, n_estimators=50;, score=0.963 total time=   0.4s\n",
      "[CV 4/5] END max_depth=None, min_samples_leaf=4, min_samples_split=10, n_estimators=50;, score=0.958 total time=   0.5s\n",
      "[CV 5/5] END max_depth=None, min_samples_leaf=4, min_samples_split=10, n_estimators=50;, score=0.956 total time=   0.4s\n",
      "[CV 1/5] END max_depth=None, min_samples_leaf=4, min_samples_split=10, n_estimators=100;, score=0.956 total time=   1.0s\n",
      "[CV 2/5] END max_depth=None, min_samples_leaf=4, min_samples_split=10, n_estimators=100;, score=0.952 total time=   1.1s\n",
      "[CV 3/5] END max_depth=None, min_samples_leaf=4, min_samples_split=10, n_estimators=100;, score=0.962 total time=   1.2s\n",
      "[CV 4/5] END max_depth=None, min_samples_leaf=4, min_samples_split=10, n_estimators=100;, score=0.959 total time=   1.1s\n",
      "[CV 5/5] END max_depth=None, min_samples_leaf=4, min_samples_split=10, n_estimators=100;, score=0.953 total time=   1.1s\n",
      "[CV 1/5] END max_depth=None, min_samples_leaf=4, min_samples_split=10, n_estimators=150;, score=0.958 total time=   1.7s\n",
      "[CV 2/5] END max_depth=None, min_samples_leaf=4, min_samples_split=10, n_estimators=150;, score=0.953 total time=   1.7s\n",
      "[CV 3/5] END max_depth=None, min_samples_leaf=4, min_samples_split=10, n_estimators=150;, score=0.960 total time=   1.7s\n",
      "[CV 4/5] END max_depth=None, min_samples_leaf=4, min_samples_split=10, n_estimators=150;, score=0.958 total time=   1.7s\n",
      "[CV 5/5] END max_depth=None, min_samples_leaf=4, min_samples_split=10, n_estimators=150;, score=0.958 total time=   1.7s\n",
      "[CV 1/5] END max_depth=10, min_samples_leaf=1, min_samples_split=2, n_estimators=50;, score=0.957 total time=   0.5s\n",
      "[CV 2/5] END max_depth=10, min_samples_leaf=1, min_samples_split=2, n_estimators=50;, score=0.952 total time=   0.4s\n",
      "[CV 3/5] END max_depth=10, min_samples_leaf=1, min_samples_split=2, n_estimators=50;, score=0.963 total time=   0.3s\n",
      "[CV 4/5] END max_depth=10, min_samples_leaf=1, min_samples_split=2, n_estimators=50;, score=0.956 total time=   0.4s\n",
      "[CV 5/5] END max_depth=10, min_samples_leaf=1, min_samples_split=2, n_estimators=50;, score=0.955 total time=   0.4s\n",
      "[CV 1/5] END max_depth=10, min_samples_leaf=1, min_samples_split=2, n_estimators=100;, score=0.954 total time=   1.0s\n",
      "[CV 2/5] END max_depth=10, min_samples_leaf=1, min_samples_split=2, n_estimators=100;, score=0.956 total time=   1.0s\n",
      "[CV 3/5] END max_depth=10, min_samples_leaf=1, min_samples_split=2, n_estimators=100;, score=0.961 total time=   1.0s\n",
      "[CV 4/5] END max_depth=10, min_samples_leaf=1, min_samples_split=2, n_estimators=100;, score=0.955 total time=   0.9s\n",
      "[CV 5/5] END max_depth=10, min_samples_leaf=1, min_samples_split=2, n_estimators=100;, score=0.954 total time=   1.0s\n",
      "[CV 1/5] END max_depth=10, min_samples_leaf=1, min_samples_split=2, n_estimators=150;, score=0.958 total time=   1.5s\n",
      "[CV 2/5] END max_depth=10, min_samples_leaf=1, min_samples_split=2, n_estimators=150;, score=0.953 total time=   1.5s\n",
      "[CV 3/5] END max_depth=10, min_samples_leaf=1, min_samples_split=2, n_estimators=150;, score=0.962 total time=   1.3s\n",
      "[CV 4/5] END max_depth=10, min_samples_leaf=1, min_samples_split=2, n_estimators=150;, score=0.958 total time=   1.4s\n",
      "[CV 5/5] END max_depth=10, min_samples_leaf=1, min_samples_split=2, n_estimators=150;, score=0.956 total time=   1.5s\n",
      "[CV 1/5] END max_depth=10, min_samples_leaf=1, min_samples_split=5, n_estimators=50;, score=0.956 total time=   0.4s\n",
      "[CV 2/5] END max_depth=10, min_samples_leaf=1, min_samples_split=5, n_estimators=50;, score=0.952 total time=   0.4s\n",
      "[CV 3/5] END max_depth=10, min_samples_leaf=1, min_samples_split=5, n_estimators=50;, score=0.962 total time=   0.4s\n",
      "[CV 4/5] END max_depth=10, min_samples_leaf=1, min_samples_split=5, n_estimators=50;, score=0.952 total time=   0.4s\n",
      "[CV 5/5] END max_depth=10, min_samples_leaf=1, min_samples_split=5, n_estimators=50;, score=0.955 total time=   0.5s\n",
      "[CV 1/5] END max_depth=10, min_samples_leaf=1, min_samples_split=5, n_estimators=100;, score=0.955 total time=   1.0s\n",
      "[CV 2/5] END max_depth=10, min_samples_leaf=1, min_samples_split=5, n_estimators=100;, score=0.951 total time=   0.8s\n",
      "[CV 3/5] END max_depth=10, min_samples_leaf=1, min_samples_split=5, n_estimators=100;, score=0.962 total time=   0.9s\n",
      "[CV 4/5] END max_depth=10, min_samples_leaf=1, min_samples_split=5, n_estimators=100;, score=0.955 total time=   0.8s\n",
      "[CV 5/5] END max_depth=10, min_samples_leaf=1, min_samples_split=5, n_estimators=100;, score=0.955 total time=   0.9s\n",
      "[CV 1/5] END max_depth=10, min_samples_leaf=1, min_samples_split=5, n_estimators=150;, score=0.957 total time=   1.4s\n",
      "[CV 2/5] END max_depth=10, min_samples_leaf=1, min_samples_split=5, n_estimators=150;, score=0.955 total time=   1.4s\n",
      "[CV 3/5] END max_depth=10, min_samples_leaf=1, min_samples_split=5, n_estimators=150;, score=0.961 total time=   1.5s\n",
      "[CV 4/5] END max_depth=10, min_samples_leaf=1, min_samples_split=5, n_estimators=150;, score=0.958 total time=   1.3s\n",
      "[CV 5/5] END max_depth=10, min_samples_leaf=1, min_samples_split=5, n_estimators=150;, score=0.955 total time=   1.4s\n",
      "[CV 1/5] END max_depth=10, min_samples_leaf=1, min_samples_split=10, n_estimators=50;, score=0.956 total time=   0.4s\n",
      "[CV 2/5] END max_depth=10, min_samples_leaf=1, min_samples_split=10, n_estimators=50;, score=0.955 total time=   0.4s\n",
      "[CV 3/5] END max_depth=10, min_samples_leaf=1, min_samples_split=10, n_estimators=50;, score=0.960 total time=   0.4s\n",
      "[CV 4/5] END max_depth=10, min_samples_leaf=1, min_samples_split=10, n_estimators=50;, score=0.957 total time=   0.4s\n",
      "[CV 5/5] END max_depth=10, min_samples_leaf=1, min_samples_split=10, n_estimators=50;, score=0.957 total time=   0.4s\n",
      "[CV 1/5] END max_depth=10, min_samples_leaf=1, min_samples_split=10, n_estimators=100;, score=0.952 total time=   0.9s\n",
      "[CV 2/5] END max_depth=10, min_samples_leaf=1, min_samples_split=10, n_estimators=100;, score=0.951 total time=   0.9s\n",
      "[CV 3/5] END max_depth=10, min_samples_leaf=1, min_samples_split=10, n_estimators=100;, score=0.958 total time=   0.9s\n",
      "[CV 4/5] END max_depth=10, min_samples_leaf=1, min_samples_split=10, n_estimators=100;, score=0.956 total time=   1.0s\n",
      "[CV 5/5] END max_depth=10, min_samples_leaf=1, min_samples_split=10, n_estimators=100;, score=0.956 total time=   0.9s\n",
      "[CV 1/5] END max_depth=10, min_samples_leaf=1, min_samples_split=10, n_estimators=150;, score=0.956 total time=   1.4s\n",
      "[CV 2/5] END max_depth=10, min_samples_leaf=1, min_samples_split=10, n_estimators=150;, score=0.954 total time=   1.3s\n",
      "[CV 3/5] END max_depth=10, min_samples_leaf=1, min_samples_split=10, n_estimators=150;, score=0.960 total time=   1.5s\n",
      "[CV 4/5] END max_depth=10, min_samples_leaf=1, min_samples_split=10, n_estimators=150;, score=0.960 total time=   1.5s\n",
      "[CV 5/5] END max_depth=10, min_samples_leaf=1, min_samples_split=10, n_estimators=150;, score=0.952 total time=   1.5s\n",
      "[CV 1/5] END max_depth=10, min_samples_leaf=2, min_samples_split=2, n_estimators=50;, score=0.961 total time=   0.3s\n",
      "[CV 2/5] END max_depth=10, min_samples_leaf=2, min_samples_split=2, n_estimators=50;, score=0.952 total time=   0.4s\n",
      "[CV 3/5] END max_depth=10, min_samples_leaf=2, min_samples_split=2, n_estimators=50;, score=0.961 total time=   0.4s\n",
      "[CV 4/5] END max_depth=10, min_samples_leaf=2, min_samples_split=2, n_estimators=50;, score=0.957 total time=   0.4s\n",
      "[CV 5/5] END max_depth=10, min_samples_leaf=2, min_samples_split=2, n_estimators=50;, score=0.958 total time=   0.4s\n",
      "[CV 1/5] END max_depth=10, min_samples_leaf=2, min_samples_split=2, n_estimators=100;, score=0.955 total time=   0.8s\n",
      "[CV 2/5] END max_depth=10, min_samples_leaf=2, min_samples_split=2, n_estimators=100;, score=0.955 total time=   0.9s\n",
      "[CV 3/5] END max_depth=10, min_samples_leaf=2, min_samples_split=2, n_estimators=100;, score=0.963 total time=   0.8s\n",
      "[CV 4/5] END max_depth=10, min_samples_leaf=2, min_samples_split=2, n_estimators=100;, score=0.955 total time=   0.9s\n",
      "[CV 5/5] END max_depth=10, min_samples_leaf=2, min_samples_split=2, n_estimators=100;, score=0.958 total time=   0.8s\n",
      "[CV 1/5] END max_depth=10, min_samples_leaf=2, min_samples_split=2, n_estimators=150;, score=0.960 total time=   1.5s\n",
      "[CV 2/5] END max_depth=10, min_samples_leaf=2, min_samples_split=2, n_estimators=150;, score=0.952 total time=   1.6s\n",
      "[CV 3/5] END max_depth=10, min_samples_leaf=2, min_samples_split=2, n_estimators=150;, score=0.964 total time=   1.4s\n",
      "[CV 4/5] END max_depth=10, min_samples_leaf=2, min_samples_split=2, n_estimators=150;, score=0.957 total time=   1.4s\n",
      "[CV 5/5] END max_depth=10, min_samples_leaf=2, min_samples_split=2, n_estimators=150;, score=0.954 total time=   1.5s\n",
      "[CV 1/5] END max_depth=10, min_samples_leaf=2, min_samples_split=5, n_estimators=50;, score=0.954 total time=   0.3s\n",
      "[CV 2/5] END max_depth=10, min_samples_leaf=2, min_samples_split=5, n_estimators=50;, score=0.952 total time=   0.4s\n",
      "[CV 3/5] END max_depth=10, min_samples_leaf=2, min_samples_split=5, n_estimators=50;, score=0.958 total time=   0.4s\n",
      "[CV 4/5] END max_depth=10, min_samples_leaf=2, min_samples_split=5, n_estimators=50;, score=0.958 total time=   0.4s\n",
      "[CV 5/5] END max_depth=10, min_samples_leaf=2, min_samples_split=5, n_estimators=50;, score=0.956 total time=   0.4s\n",
      "[CV 1/5] END max_depth=10, min_samples_leaf=2, min_samples_split=5, n_estimators=100;, score=0.957 total time=   0.9s\n",
      "[CV 2/5] END max_depth=10, min_samples_leaf=2, min_samples_split=5, n_estimators=100;, score=0.954 total time=   1.0s\n",
      "[CV 3/5] END max_depth=10, min_samples_leaf=2, min_samples_split=5, n_estimators=100;, score=0.963 total time=   0.9s\n",
      "[CV 4/5] END max_depth=10, min_samples_leaf=2, min_samples_split=5, n_estimators=100;, score=0.955 total time=   1.0s\n",
      "[CV 5/5] END max_depth=10, min_samples_leaf=2, min_samples_split=5, n_estimators=100;, score=0.958 total time=   0.9s\n",
      "[CV 1/5] END max_depth=10, min_samples_leaf=2, min_samples_split=5, n_estimators=150;, score=0.955 total time=   1.5s\n",
      "[CV 2/5] END max_depth=10, min_samples_leaf=2, min_samples_split=5, n_estimators=150;, score=0.953 total time=   1.3s\n",
      "[CV 3/5] END max_depth=10, min_samples_leaf=2, min_samples_split=5, n_estimators=150;, score=0.965 total time=   1.5s\n",
      "[CV 4/5] END max_depth=10, min_samples_leaf=2, min_samples_split=5, n_estimators=150;, score=0.957 total time=   1.4s\n",
      "[CV 5/5] END max_depth=10, min_samples_leaf=2, min_samples_split=5, n_estimators=150;, score=0.954 total time=   1.2s\n",
      "[CV 1/5] END max_depth=10, min_samples_leaf=2, min_samples_split=10, n_estimators=50;, score=0.956 total time=   0.3s\n",
      "[CV 2/5] END max_depth=10, min_samples_leaf=2, min_samples_split=10, n_estimators=50;, score=0.952 total time=   0.3s\n",
      "[CV 3/5] END max_depth=10, min_samples_leaf=2, min_samples_split=10, n_estimators=50;, score=0.962 total time=   0.4s\n",
      "[CV 4/5] END max_depth=10, min_samples_leaf=2, min_samples_split=10, n_estimators=50;, score=0.955 total time=   0.4s\n",
      "[CV 5/5] END max_depth=10, min_samples_leaf=2, min_samples_split=10, n_estimators=50;, score=0.956 total time=   0.4s\n",
      "[CV 1/5] END max_depth=10, min_samples_leaf=2, min_samples_split=10, n_estimators=100;, score=0.955 total time=   0.9s\n",
      "[CV 2/5] END max_depth=10, min_samples_leaf=2, min_samples_split=10, n_estimators=100;, score=0.953 total time=   0.8s\n",
      "[CV 3/5] END max_depth=10, min_samples_leaf=2, min_samples_split=10, n_estimators=100;, score=0.963 total time=   0.9s\n",
      "[CV 4/5] END max_depth=10, min_samples_leaf=2, min_samples_split=10, n_estimators=100;, score=0.954 total time=   0.9s\n",
      "[CV 5/5] END max_depth=10, min_samples_leaf=2, min_samples_split=10, n_estimators=100;, score=0.952 total time=   0.9s\n",
      "[CV 1/5] END max_depth=10, min_samples_leaf=2, min_samples_split=10, n_estimators=150;, score=0.956 total time=   1.6s\n",
      "[CV 2/5] END max_depth=10, min_samples_leaf=2, min_samples_split=10, n_estimators=150;, score=0.952 total time=   1.3s\n",
      "[CV 3/5] END max_depth=10, min_samples_leaf=2, min_samples_split=10, n_estimators=150;, score=0.962 total time=   1.3s\n",
      "[CV 4/5] END max_depth=10, min_samples_leaf=2, min_samples_split=10, n_estimators=150;, score=0.958 total time=   1.3s\n",
      "[CV 5/5] END max_depth=10, min_samples_leaf=2, min_samples_split=10, n_estimators=150;, score=0.956 total time=   1.3s\n",
      "[CV 1/5] END max_depth=10, min_samples_leaf=4, min_samples_split=2, n_estimators=50;, score=0.955 total time=   0.4s\n",
      "[CV 2/5] END max_depth=10, min_samples_leaf=4, min_samples_split=2, n_estimators=50;, score=0.948 total time=   0.4s\n",
      "[CV 3/5] END max_depth=10, min_samples_leaf=4, min_samples_split=2, n_estimators=50;, score=0.959 total time=   0.4s\n",
      "[CV 4/5] END max_depth=10, min_samples_leaf=4, min_samples_split=2, n_estimators=50;, score=0.952 total time=   0.3s\n",
      "[CV 5/5] END max_depth=10, min_samples_leaf=4, min_samples_split=2, n_estimators=50;, score=0.957 total time=   0.4s\n",
      "[CV 1/5] END max_depth=10, min_samples_leaf=4, min_samples_split=2, n_estimators=100;, score=0.955 total time=   0.9s\n",
      "[CV 2/5] END max_depth=10, min_samples_leaf=4, min_samples_split=2, n_estimators=100;, score=0.951 total time=   0.8s\n",
      "[CV 3/5] END max_depth=10, min_samples_leaf=4, min_samples_split=2, n_estimators=100;, score=0.958 total time=   0.9s\n",
      "[CV 4/5] END max_depth=10, min_samples_leaf=4, min_samples_split=2, n_estimators=100;, score=0.953 total time=   0.9s\n",
      "[CV 5/5] END max_depth=10, min_samples_leaf=4, min_samples_split=2, n_estimators=100;, score=0.956 total time=   0.9s\n",
      "[CV 1/5] END max_depth=10, min_samples_leaf=4, min_samples_split=2, n_estimators=150;, score=0.954 total time=   1.3s\n",
      "[CV 2/5] END max_depth=10, min_samples_leaf=4, min_samples_split=2, n_estimators=150;, score=0.953 total time=   1.2s\n",
      "[CV 3/5] END max_depth=10, min_samples_leaf=4, min_samples_split=2, n_estimators=150;, score=0.959 total time=   1.3s\n",
      "[CV 4/5] END max_depth=10, min_samples_leaf=4, min_samples_split=2, n_estimators=150;, score=0.955 total time=   1.4s\n",
      "[CV 5/5] END max_depth=10, min_samples_leaf=4, min_samples_split=2, n_estimators=150;, score=0.953 total time=   1.4s\n",
      "[CV 1/5] END max_depth=10, min_samples_leaf=4, min_samples_split=5, n_estimators=50;, score=0.955 total time=   0.3s\n",
      "[CV 2/5] END max_depth=10, min_samples_leaf=4, min_samples_split=5, n_estimators=50;, score=0.949 total time=   0.4s\n",
      "[CV 3/5] END max_depth=10, min_samples_leaf=4, min_samples_split=5, n_estimators=50;, score=0.961 total time=   0.3s\n",
      "[CV 4/5] END max_depth=10, min_samples_leaf=4, min_samples_split=5, n_estimators=50;, score=0.955 total time=   0.5s\n",
      "[CV 5/5] END max_depth=10, min_samples_leaf=4, min_samples_split=5, n_estimators=50;, score=0.956 total time=   0.4s\n",
      "[CV 1/5] END max_depth=10, min_samples_leaf=4, min_samples_split=5, n_estimators=100;, score=0.954 total time=   1.0s\n",
      "[CV 2/5] END max_depth=10, min_samples_leaf=4, min_samples_split=5, n_estimators=100;, score=0.949 total time=   0.7s\n",
      "[CV 3/5] END max_depth=10, min_samples_leaf=4, min_samples_split=5, n_estimators=100;, score=0.960 total time=   0.9s\n",
      "[CV 4/5] END max_depth=10, min_samples_leaf=4, min_samples_split=5, n_estimators=100;, score=0.957 total time=   1.0s\n",
      "[CV 5/5] END max_depth=10, min_samples_leaf=4, min_samples_split=5, n_estimators=100;, score=0.953 total time=   0.8s\n",
      "[CV 1/5] END max_depth=10, min_samples_leaf=4, min_samples_split=5, n_estimators=150;, score=0.954 total time=   1.4s\n",
      "[CV 2/5] END max_depth=10, min_samples_leaf=4, min_samples_split=5, n_estimators=150;, score=0.955 total time=   1.5s\n",
      "[CV 3/5] END max_depth=10, min_samples_leaf=4, min_samples_split=5, n_estimators=150;, score=0.964 total time=   1.3s\n",
      "[CV 4/5] END max_depth=10, min_samples_leaf=4, min_samples_split=5, n_estimators=150;, score=0.956 total time=   1.5s\n",
      "[CV 5/5] END max_depth=10, min_samples_leaf=4, min_samples_split=5, n_estimators=150;, score=0.955 total time=   1.3s\n",
      "[CV 1/5] END max_depth=10, min_samples_leaf=4, min_samples_split=10, n_estimators=50;, score=0.955 total time=   0.5s\n",
      "[CV 2/5] END max_depth=10, min_samples_leaf=4, min_samples_split=10, n_estimators=50;, score=0.951 total time=   0.3s\n",
      "[CV 3/5] END max_depth=10, min_samples_leaf=4, min_samples_split=10, n_estimators=50;, score=0.960 total time=   0.4s\n",
      "[CV 4/5] END max_depth=10, min_samples_leaf=4, min_samples_split=10, n_estimators=50;, score=0.955 total time=   0.5s\n",
      "[CV 5/5] END max_depth=10, min_samples_leaf=4, min_samples_split=10, n_estimators=50;, score=0.956 total time=   0.3s\n",
      "[CV 1/5] END max_depth=10, min_samples_leaf=4, min_samples_split=10, n_estimators=100;, score=0.957 total time=   0.9s\n",
      "[CV 2/5] END max_depth=10, min_samples_leaf=4, min_samples_split=10, n_estimators=100;, score=0.948 total time=   0.9s\n",
      "[CV 3/5] END max_depth=10, min_samples_leaf=4, min_samples_split=10, n_estimators=100;, score=0.961 total time=   0.8s\n",
      "[CV 4/5] END max_depth=10, min_samples_leaf=4, min_samples_split=10, n_estimators=100;, score=0.953 total time=   0.7s\n",
      "[CV 5/5] END max_depth=10, min_samples_leaf=4, min_samples_split=10, n_estimators=100;, score=0.955 total time=   0.9s\n",
      "[CV 1/5] END max_depth=10, min_samples_leaf=4, min_samples_split=10, n_estimators=150;, score=0.956 total time=   1.3s\n",
      "[CV 2/5] END max_depth=10, min_samples_leaf=4, min_samples_split=10, n_estimators=150;, score=0.955 total time=   1.2s\n",
      "[CV 3/5] END max_depth=10, min_samples_leaf=4, min_samples_split=10, n_estimators=150;, score=0.958 total time=   1.2s\n",
      "[CV 4/5] END max_depth=10, min_samples_leaf=4, min_samples_split=10, n_estimators=150;, score=0.955 total time=   1.4s\n",
      "[CV 5/5] END max_depth=10, min_samples_leaf=4, min_samples_split=10, n_estimators=150;, score=0.954 total time=   1.2s\n",
      "[CV 1/5] END max_depth=20, min_samples_leaf=1, min_samples_split=2, n_estimators=50;, score=0.963 total time=   0.5s\n",
      "[CV 2/5] END max_depth=20, min_samples_leaf=1, min_samples_split=2, n_estimators=50;, score=0.956 total time=   0.5s\n",
      "[CV 3/5] END max_depth=20, min_samples_leaf=1, min_samples_split=2, n_estimators=50;, score=0.967 total time=   0.5s\n",
      "[CV 4/5] END max_depth=20, min_samples_leaf=1, min_samples_split=2, n_estimators=50;, score=0.961 total time=   0.5s\n",
      "[CV 5/5] END max_depth=20, min_samples_leaf=1, min_samples_split=2, n_estimators=50;, score=0.961 total time=   0.4s\n",
      "[CV 1/5] END max_depth=20, min_samples_leaf=1, min_samples_split=2, n_estimators=100;, score=0.961 total time=   1.2s\n",
      "[CV 2/5] END max_depth=20, min_samples_leaf=1, min_samples_split=2, n_estimators=100;, score=0.956 total time=   1.2s\n",
      "[CV 3/5] END max_depth=20, min_samples_leaf=1, min_samples_split=2, n_estimators=100;, score=0.967 total time=   1.1s\n",
      "[CV 4/5] END max_depth=20, min_samples_leaf=1, min_samples_split=2, n_estimators=100;, score=0.964 total time=   1.1s\n",
      "[CV 5/5] END max_depth=20, min_samples_leaf=1, min_samples_split=2, n_estimators=100;, score=0.962 total time=   1.1s\n",
      "[CV 1/5] END max_depth=20, min_samples_leaf=1, min_samples_split=2, n_estimators=150;, score=0.961 total time=   1.9s\n",
      "[CV 2/5] END max_depth=20, min_samples_leaf=1, min_samples_split=2, n_estimators=150;, score=0.956 total time=   1.7s\n",
      "[CV 3/5] END max_depth=20, min_samples_leaf=1, min_samples_split=2, n_estimators=150;, score=0.967 total time=   1.7s\n",
      "[CV 4/5] END max_depth=20, min_samples_leaf=1, min_samples_split=2, n_estimators=150;, score=0.965 total time=   1.7s\n",
      "[CV 5/5] END max_depth=20, min_samples_leaf=1, min_samples_split=2, n_estimators=150;, score=0.960 total time=   1.8s\n",
      "[CV 1/5] END max_depth=20, min_samples_leaf=1, min_samples_split=5, n_estimators=50;, score=0.961 total time=   0.5s\n",
      "[CV 2/5] END max_depth=20, min_samples_leaf=1, min_samples_split=5, n_estimators=50;, score=0.956 total time=   0.4s\n",
      "[CV 3/5] END max_depth=20, min_samples_leaf=1, min_samples_split=5, n_estimators=50;, score=0.969 total time=   0.6s\n",
      "[CV 4/5] END max_depth=20, min_samples_leaf=1, min_samples_split=5, n_estimators=50;, score=0.961 total time=   0.5s\n",
      "[CV 5/5] END max_depth=20, min_samples_leaf=1, min_samples_split=5, n_estimators=50;, score=0.957 total time=   0.5s\n",
      "[CV 1/5] END max_depth=20, min_samples_leaf=1, min_samples_split=5, n_estimators=100;, score=0.962 total time=   1.2s\n",
      "[CV 2/5] END max_depth=20, min_samples_leaf=1, min_samples_split=5, n_estimators=100;, score=0.954 total time=   1.3s\n",
      "[CV 3/5] END max_depth=20, min_samples_leaf=1, min_samples_split=5, n_estimators=100;, score=0.968 total time=   1.1s\n",
      "[CV 4/5] END max_depth=20, min_samples_leaf=1, min_samples_split=5, n_estimators=100;, score=0.961 total time=   1.0s\n",
      "[CV 5/5] END max_depth=20, min_samples_leaf=1, min_samples_split=5, n_estimators=100;, score=0.962 total time=   1.1s\n",
      "[CV 1/5] END max_depth=20, min_samples_leaf=1, min_samples_split=5, n_estimators=150;, score=0.960 total time=   1.5s\n",
      "[CV 2/5] END max_depth=20, min_samples_leaf=1, min_samples_split=5, n_estimators=150;, score=0.956 total time=   1.8s\n",
      "[CV 3/5] END max_depth=20, min_samples_leaf=1, min_samples_split=5, n_estimators=150;, score=0.967 total time=   1.9s\n",
      "[CV 4/5] END max_depth=20, min_samples_leaf=1, min_samples_split=5, n_estimators=150;, score=0.963 total time=   1.7s\n",
      "[CV 5/5] END max_depth=20, min_samples_leaf=1, min_samples_split=5, n_estimators=150;, score=0.961 total time=   1.5s\n",
      "[CV 1/5] END max_depth=20, min_samples_leaf=1, min_samples_split=10, n_estimators=50;, score=0.962 total time=   0.5s\n",
      "[CV 2/5] END max_depth=20, min_samples_leaf=1, min_samples_split=10, n_estimators=50;, score=0.957 total time=   0.4s\n",
      "[CV 3/5] END max_depth=20, min_samples_leaf=1, min_samples_split=10, n_estimators=50;, score=0.966 total time=   0.5s\n",
      "[CV 4/5] END max_depth=20, min_samples_leaf=1, min_samples_split=10, n_estimators=50;, score=0.956 total time=   0.6s\n",
      "[CV 5/5] END max_depth=20, min_samples_leaf=1, min_samples_split=10, n_estimators=50;, score=0.958 total time=   0.4s\n",
      "[CV 1/5] END max_depth=20, min_samples_leaf=1, min_samples_split=10, n_estimators=100;, score=0.960 total time=   1.0s\n",
      "[CV 2/5] END max_depth=20, min_samples_leaf=1, min_samples_split=10, n_estimators=100;, score=0.954 total time=   1.1s\n",
      "[CV 3/5] END max_depth=20, min_samples_leaf=1, min_samples_split=10, n_estimators=100;, score=0.967 total time=   1.1s\n",
      "[CV 4/5] END max_depth=20, min_samples_leaf=1, min_samples_split=10, n_estimators=100;, score=0.960 total time=   1.1s\n",
      "[CV 5/5] END max_depth=20, min_samples_leaf=1, min_samples_split=10, n_estimators=100;, score=0.957 total time=   0.9s\n",
      "[CV 1/5] END max_depth=20, min_samples_leaf=1, min_samples_split=10, n_estimators=150;, score=0.959 total time=   1.7s\n",
      "[CV 2/5] END max_depth=20, min_samples_leaf=1, min_samples_split=10, n_estimators=150;, score=0.955 total time=   1.8s\n",
      "[CV 3/5] END max_depth=20, min_samples_leaf=1, min_samples_split=10, n_estimators=150;, score=0.966 total time=   1.6s\n",
      "[CV 4/5] END max_depth=20, min_samples_leaf=1, min_samples_split=10, n_estimators=150;, score=0.960 total time=   1.7s\n",
      "[CV 5/5] END max_depth=20, min_samples_leaf=1, min_samples_split=10, n_estimators=150;, score=0.958 total time=   1.6s\n",
      "[CV 1/5] END max_depth=20, min_samples_leaf=2, min_samples_split=2, n_estimators=50;, score=0.961 total time=   0.4s\n",
      "[CV 2/5] END max_depth=20, min_samples_leaf=2, min_samples_split=2, n_estimators=50;, score=0.955 total time=   0.4s\n",
      "[CV 3/5] END max_depth=20, min_samples_leaf=2, min_samples_split=2, n_estimators=50;, score=0.966 total time=   0.5s\n",
      "[CV 4/5] END max_depth=20, min_samples_leaf=2, min_samples_split=2, n_estimators=50;, score=0.957 total time=   0.6s\n",
      "[CV 5/5] END max_depth=20, min_samples_leaf=2, min_samples_split=2, n_estimators=50;, score=0.961 total time=   0.5s\n",
      "[CV 1/5] END max_depth=20, min_samples_leaf=2, min_samples_split=2, n_estimators=100;, score=0.958 total time=   1.1s\n",
      "[CV 2/5] END max_depth=20, min_samples_leaf=2, min_samples_split=2, n_estimators=100;, score=0.956 total time=   1.1s\n",
      "[CV 3/5] END max_depth=20, min_samples_leaf=2, min_samples_split=2, n_estimators=100;, score=0.968 total time=   1.1s\n",
      "[CV 4/5] END max_depth=20, min_samples_leaf=2, min_samples_split=2, n_estimators=100;, score=0.962 total time=   1.2s\n",
      "[CV 5/5] END max_depth=20, min_samples_leaf=2, min_samples_split=2, n_estimators=100;, score=0.960 total time=   1.1s\n",
      "[CV 1/5] END max_depth=20, min_samples_leaf=2, min_samples_split=2, n_estimators=150;, score=0.961 total time=   1.5s\n",
      "[CV 2/5] END max_depth=20, min_samples_leaf=2, min_samples_split=2, n_estimators=150;, score=0.956 total time=   1.6s\n",
      "[CV 3/5] END max_depth=20, min_samples_leaf=2, min_samples_split=2, n_estimators=150;, score=0.968 total time=   1.6s\n",
      "[CV 4/5] END max_depth=20, min_samples_leaf=2, min_samples_split=2, n_estimators=150;, score=0.962 total time=   1.8s\n",
      "[CV 5/5] END max_depth=20, min_samples_leaf=2, min_samples_split=2, n_estimators=150;, score=0.958 total time=   1.8s\n",
      "[CV 1/5] END max_depth=20, min_samples_leaf=2, min_samples_split=5, n_estimators=50;, score=0.959 total time=   0.5s\n",
      "[CV 2/5] END max_depth=20, min_samples_leaf=2, min_samples_split=5, n_estimators=50;, score=0.954 total time=   0.5s\n",
      "[CV 3/5] END max_depth=20, min_samples_leaf=2, min_samples_split=5, n_estimators=50;, score=0.967 total time=   0.6s\n",
      "[CV 4/5] END max_depth=20, min_samples_leaf=2, min_samples_split=5, n_estimators=50;, score=0.963 total time=   0.6s\n",
      "[CV 5/5] END max_depth=20, min_samples_leaf=2, min_samples_split=5, n_estimators=50;, score=0.960 total time=   0.6s\n",
      "[CV 1/5] END max_depth=20, min_samples_leaf=2, min_samples_split=5, n_estimators=100;, score=0.959 total time=   1.2s\n",
      "[CV 2/5] END max_depth=20, min_samples_leaf=2, min_samples_split=5, n_estimators=100;, score=0.954 total time=   1.2s\n",
      "[CV 3/5] END max_depth=20, min_samples_leaf=2, min_samples_split=5, n_estimators=100;, score=0.967 total time=   0.9s\n",
      "[CV 4/5] END max_depth=20, min_samples_leaf=2, min_samples_split=5, n_estimators=100;, score=0.961 total time=   1.0s\n",
      "[CV 5/5] END max_depth=20, min_samples_leaf=2, min_samples_split=5, n_estimators=100;, score=0.958 total time=   1.2s\n",
      "[CV 1/5] END max_depth=20, min_samples_leaf=2, min_samples_split=5, n_estimators=150;, score=0.960 total time=   1.7s\n",
      "[CV 2/5] END max_depth=20, min_samples_leaf=2, min_samples_split=5, n_estimators=150;, score=0.957 total time=   1.7s\n",
      "[CV 3/5] END max_depth=20, min_samples_leaf=2, min_samples_split=5, n_estimators=150;, score=0.963 total time=   1.5s\n",
      "[CV 4/5] END max_depth=20, min_samples_leaf=2, min_samples_split=5, n_estimators=150;, score=0.958 total time=   1.7s\n",
      "[CV 5/5] END max_depth=20, min_samples_leaf=2, min_samples_split=5, n_estimators=150;, score=0.959 total time=   1.6s\n",
      "[CV 1/5] END max_depth=20, min_samples_leaf=2, min_samples_split=10, n_estimators=50;, score=0.960 total time=   0.5s\n",
      "[CV 2/5] END max_depth=20, min_samples_leaf=2, min_samples_split=10, n_estimators=50;, score=0.954 total time=   0.5s\n",
      "[CV 3/5] END max_depth=20, min_samples_leaf=2, min_samples_split=10, n_estimators=50;, score=0.966 total time=   0.5s\n",
      "[CV 4/5] END max_depth=20, min_samples_leaf=2, min_samples_split=10, n_estimators=50;, score=0.957 total time=   0.5s\n",
      "[CV 5/5] END max_depth=20, min_samples_leaf=2, min_samples_split=10, n_estimators=50;, score=0.961 total time=   0.6s\n",
      "[CV 1/5] END max_depth=20, min_samples_leaf=2, min_samples_split=10, n_estimators=100;, score=0.958 total time=   1.0s\n",
      "[CV 2/5] END max_depth=20, min_samples_leaf=2, min_samples_split=10, n_estimators=100;, score=0.954 total time=   1.0s\n",
      "[CV 3/5] END max_depth=20, min_samples_leaf=2, min_samples_split=10, n_estimators=100;, score=0.964 total time=   0.9s\n",
      "[CV 4/5] END max_depth=20, min_samples_leaf=2, min_samples_split=10, n_estimators=100;, score=0.960 total time=   0.9s\n",
      "[CV 5/5] END max_depth=20, min_samples_leaf=2, min_samples_split=10, n_estimators=100;, score=0.958 total time=   1.0s\n",
      "[CV 1/5] END max_depth=20, min_samples_leaf=2, min_samples_split=10, n_estimators=150;, score=0.958 total time=   1.8s\n",
      "[CV 2/5] END max_depth=20, min_samples_leaf=2, min_samples_split=10, n_estimators=150;, score=0.955 total time=   1.6s\n",
      "[CV 3/5] END max_depth=20, min_samples_leaf=2, min_samples_split=10, n_estimators=150;, score=0.966 total time=   1.6s\n",
      "[CV 4/5] END max_depth=20, min_samples_leaf=2, min_samples_split=10, n_estimators=150;, score=0.961 total time=   1.5s\n",
      "[CV 5/5] END max_depth=20, min_samples_leaf=2, min_samples_split=10, n_estimators=150;, score=0.958 total time=   1.7s\n",
      "[CV 1/5] END max_depth=20, min_samples_leaf=4, min_samples_split=2, n_estimators=50;, score=0.956 total time=   0.4s\n",
      "[CV 2/5] END max_depth=20, min_samples_leaf=4, min_samples_split=2, n_estimators=50;, score=0.955 total time=   0.5s\n",
      "[CV 3/5] END max_depth=20, min_samples_leaf=4, min_samples_split=2, n_estimators=50;, score=0.960 total time=   0.4s\n",
      "[CV 4/5] END max_depth=20, min_samples_leaf=4, min_samples_split=2, n_estimators=50;, score=0.958 total time=   0.4s\n",
      "[CV 5/5] END max_depth=20, min_samples_leaf=4, min_samples_split=2, n_estimators=50;, score=0.956 total time=   0.5s\n",
      "[CV 1/5] END max_depth=20, min_samples_leaf=4, min_samples_split=2, n_estimators=100;, score=0.956 total time=   0.9s\n",
      "[CV 2/5] END max_depth=20, min_samples_leaf=4, min_samples_split=2, n_estimators=100;, score=0.952 total time=   1.1s\n",
      "[CV 3/5] END max_depth=20, min_samples_leaf=4, min_samples_split=2, n_estimators=100;, score=0.962 total time=   1.1s\n",
      "[CV 4/5] END max_depth=20, min_samples_leaf=4, min_samples_split=2, n_estimators=100;, score=0.960 total time=   1.0s\n",
      "[CV 5/5] END max_depth=20, min_samples_leaf=4, min_samples_split=2, n_estimators=100;, score=0.957 total time=   0.9s\n",
      "[CV 1/5] END max_depth=20, min_samples_leaf=4, min_samples_split=2, n_estimators=150;, score=0.958 total time=   1.5s\n",
      "[CV 2/5] END max_depth=20, min_samples_leaf=4, min_samples_split=2, n_estimators=150;, score=0.952 total time=   1.7s\n",
      "[CV 3/5] END max_depth=20, min_samples_leaf=4, min_samples_split=2, n_estimators=150;, score=0.961 total time=   1.3s\n",
      "[CV 4/5] END max_depth=20, min_samples_leaf=4, min_samples_split=2, n_estimators=150;, score=0.958 total time=   1.4s\n",
      "[CV 5/5] END max_depth=20, min_samples_leaf=4, min_samples_split=2, n_estimators=150;, score=0.956 total time=   1.5s\n",
      "[CV 1/5] END max_depth=20, min_samples_leaf=4, min_samples_split=5, n_estimators=50;, score=0.959 total time=   0.4s\n",
      "[CV 2/5] END max_depth=20, min_samples_leaf=4, min_samples_split=5, n_estimators=50;, score=0.955 total time=   0.5s\n",
      "[CV 3/5] END max_depth=20, min_samples_leaf=4, min_samples_split=5, n_estimators=50;, score=0.964 total time=   0.4s\n",
      "[CV 4/5] END max_depth=20, min_samples_leaf=4, min_samples_split=5, n_estimators=50;, score=0.961 total time=   0.5s\n",
      "[CV 5/5] END max_depth=20, min_samples_leaf=4, min_samples_split=5, n_estimators=50;, score=0.958 total time=   0.5s\n",
      "[CV 1/5] END max_depth=20, min_samples_leaf=4, min_samples_split=5, n_estimators=100;, score=0.956 total time=   0.9s\n",
      "[CV 2/5] END max_depth=20, min_samples_leaf=4, min_samples_split=5, n_estimators=100;, score=0.952 total time=   0.9s\n",
      "[CV 3/5] END max_depth=20, min_samples_leaf=4, min_samples_split=5, n_estimators=100;, score=0.963 total time=   1.2s\n",
      "[CV 4/5] END max_depth=20, min_samples_leaf=4, min_samples_split=5, n_estimators=100;, score=0.956 total time=   0.9s\n",
      "[CV 5/5] END max_depth=20, min_samples_leaf=4, min_samples_split=5, n_estimators=100;, score=0.958 total time=   0.9s\n",
      "[CV 1/5] END max_depth=20, min_samples_leaf=4, min_samples_split=5, n_estimators=150;, score=0.956 total time=   1.5s\n",
      "[CV 2/5] END max_depth=20, min_samples_leaf=4, min_samples_split=5, n_estimators=150;, score=0.952 total time=   1.5s\n",
      "[CV 3/5] END max_depth=20, min_samples_leaf=4, min_samples_split=5, n_estimators=150;, score=0.962 total time=   1.5s\n",
      "[CV 4/5] END max_depth=20, min_samples_leaf=4, min_samples_split=5, n_estimators=150;, score=0.960 total time=   1.5s\n",
      "[CV 5/5] END max_depth=20, min_samples_leaf=4, min_samples_split=5, n_estimators=150;, score=0.958 total time=   1.6s\n",
      "[CV 1/5] END max_depth=20, min_samples_leaf=4, min_samples_split=10, n_estimators=50;, score=0.959 total time=   0.5s\n",
      "[CV 2/5] END max_depth=20, min_samples_leaf=4, min_samples_split=10, n_estimators=50;, score=0.951 total time=   0.6s\n",
      "[CV 3/5] END max_depth=20, min_samples_leaf=4, min_samples_split=10, n_estimators=50;, score=0.964 total time=   0.4s\n",
      "[CV 4/5] END max_depth=20, min_samples_leaf=4, min_samples_split=10, n_estimators=50;, score=0.955 total time=   0.5s\n",
      "[CV 5/5] END max_depth=20, min_samples_leaf=4, min_samples_split=10, n_estimators=50;, score=0.958 total time=   0.6s\n",
      "[CV 1/5] END max_depth=20, min_samples_leaf=4, min_samples_split=10, n_estimators=100;, score=0.960 total time=   1.0s\n",
      "[CV 2/5] END max_depth=20, min_samples_leaf=4, min_samples_split=10, n_estimators=100;, score=0.954 total time=   1.1s\n",
      "[CV 3/5] END max_depth=20, min_samples_leaf=4, min_samples_split=10, n_estimators=100;, score=0.960 total time=   0.9s\n",
      "[CV 4/5] END max_depth=20, min_samples_leaf=4, min_samples_split=10, n_estimators=100;, score=0.960 total time=   1.0s\n",
      "[CV 5/5] END max_depth=20, min_samples_leaf=4, min_samples_split=10, n_estimators=100;, score=0.958 total time=   0.9s\n",
      "[CV 1/5] END max_depth=20, min_samples_leaf=4, min_samples_split=10, n_estimators=150;, score=0.959 total time=   1.4s\n",
      "[CV 2/5] END max_depth=20, min_samples_leaf=4, min_samples_split=10, n_estimators=150;, score=0.955 total time=   1.3s\n",
      "[CV 3/5] END max_depth=20, min_samples_leaf=4, min_samples_split=10, n_estimators=150;, score=0.962 total time=   1.5s\n",
      "[CV 4/5] END max_depth=20, min_samples_leaf=4, min_samples_split=10, n_estimators=150;, score=0.958 total time=   1.7s\n",
      "[CV 5/5] END max_depth=20, min_samples_leaf=4, min_samples_split=10, n_estimators=150;, score=0.956 total time=   1.8s\n",
      "[CV 1/5] END max_depth=30, min_samples_leaf=1, min_samples_split=2, n_estimators=50;, score=0.962 total time=   0.5s\n",
      "[CV 2/5] END max_depth=30, min_samples_leaf=1, min_samples_split=2, n_estimators=50;, score=0.954 total time=   0.6s\n",
      "[CV 3/5] END max_depth=30, min_samples_leaf=1, min_samples_split=2, n_estimators=50;, score=0.967 total time=   0.5s\n",
      "[CV 4/5] END max_depth=30, min_samples_leaf=1, min_samples_split=2, n_estimators=50;, score=0.962 total time=   0.6s\n",
      "[CV 5/5] END max_depth=30, min_samples_leaf=1, min_samples_split=2, n_estimators=50;, score=0.964 total time=   0.5s\n",
      "[CV 1/5] END max_depth=30, min_samples_leaf=1, min_samples_split=2, n_estimators=100;, score=0.962 total time=   1.2s\n",
      "[CV 2/5] END max_depth=30, min_samples_leaf=1, min_samples_split=2, n_estimators=100;, score=0.956 total time=   1.2s\n",
      "[CV 3/5] END max_depth=30, min_samples_leaf=1, min_samples_split=2, n_estimators=100;, score=0.964 total time=   1.2s\n",
      "[CV 4/5] END max_depth=30, min_samples_leaf=1, min_samples_split=2, n_estimators=100;, score=0.962 total time=   1.2s\n",
      "[CV 5/5] END max_depth=30, min_samples_leaf=1, min_samples_split=2, n_estimators=100;, score=0.961 total time=   1.1s\n",
      "[CV 1/5] END max_depth=30, min_samples_leaf=1, min_samples_split=2, n_estimators=150;, score=0.961 total time=   1.7s\n",
      "[CV 2/5] END max_depth=30, min_samples_leaf=1, min_samples_split=2, n_estimators=150;, score=0.955 total time=   1.5s\n",
      "[CV 3/5] END max_depth=30, min_samples_leaf=1, min_samples_split=2, n_estimators=150;, score=0.969 total time=   1.6s\n",
      "[CV 4/5] END max_depth=30, min_samples_leaf=1, min_samples_split=2, n_estimators=150;, score=0.964 total time=   1.9s\n",
      "[CV 5/5] END max_depth=30, min_samples_leaf=1, min_samples_split=2, n_estimators=150;, score=0.961 total time=   1.8s\n",
      "[CV 1/5] END max_depth=30, min_samples_leaf=1, min_samples_split=5, n_estimators=50;, score=0.959 total time=   0.6s\n",
      "[CV 2/5] END max_depth=30, min_samples_leaf=1, min_samples_split=5, n_estimators=50;, score=0.955 total time=   0.5s\n",
      "[CV 3/5] END max_depth=30, min_samples_leaf=1, min_samples_split=5, n_estimators=50;, score=0.966 total time=   0.4s\n",
      "[CV 4/5] END max_depth=30, min_samples_leaf=1, min_samples_split=5, n_estimators=50;, score=0.959 total time=   0.5s\n",
      "[CV 5/5] END max_depth=30, min_samples_leaf=1, min_samples_split=5, n_estimators=50;, score=0.961 total time=   0.5s\n",
      "[CV 1/5] END max_depth=30, min_samples_leaf=1, min_samples_split=5, n_estimators=100;, score=0.961 total time=   1.0s\n",
      "[CV 2/5] END max_depth=30, min_samples_leaf=1, min_samples_split=5, n_estimators=100;, score=0.957 total time=   1.1s\n",
      "[CV 3/5] END max_depth=30, min_samples_leaf=1, min_samples_split=5, n_estimators=100;, score=0.968 total time=   1.1s\n",
      "[CV 4/5] END max_depth=30, min_samples_leaf=1, min_samples_split=5, n_estimators=100;, score=0.964 total time=   1.1s\n",
      "[CV 5/5] END max_depth=30, min_samples_leaf=1, min_samples_split=5, n_estimators=100;, score=0.957 total time=   1.1s\n",
      "[CV 1/5] END max_depth=30, min_samples_leaf=1, min_samples_split=5, n_estimators=150;, score=0.960 total time=   1.7s\n",
      "[CV 2/5] END max_depth=30, min_samples_leaf=1, min_samples_split=5, n_estimators=150;, score=0.956 total time=   1.6s\n",
      "[CV 3/5] END max_depth=30, min_samples_leaf=1, min_samples_split=5, n_estimators=150;, score=0.963 total time=   1.8s\n",
      "[CV 4/5] END max_depth=30, min_samples_leaf=1, min_samples_split=5, n_estimators=150;, score=0.959 total time=   1.9s\n",
      "[CV 5/5] END max_depth=30, min_samples_leaf=1, min_samples_split=5, n_estimators=150;, score=0.962 total time=   1.7s\n",
      "[CV 1/5] END max_depth=30, min_samples_leaf=1, min_samples_split=10, n_estimators=50;, score=0.957 total time=   0.5s\n",
      "[CV 2/5] END max_depth=30, min_samples_leaf=1, min_samples_split=10, n_estimators=50;, score=0.955 total time=   0.6s\n",
      "[CV 3/5] END max_depth=30, min_samples_leaf=1, min_samples_split=10, n_estimators=50;, score=0.963 total time=   0.5s\n",
      "[CV 4/5] END max_depth=30, min_samples_leaf=1, min_samples_split=10, n_estimators=50;, score=0.960 total time=   0.6s\n",
      "[CV 5/5] END max_depth=30, min_samples_leaf=1, min_samples_split=10, n_estimators=50;, score=0.960 total time=   0.6s\n",
      "[CV 1/5] END max_depth=30, min_samples_leaf=1, min_samples_split=10, n_estimators=100;, score=0.959 total time=   1.1s\n",
      "[CV 2/5] END max_depth=30, min_samples_leaf=1, min_samples_split=10, n_estimators=100;, score=0.956 total time=   1.2s\n",
      "[CV 3/5] END max_depth=30, min_samples_leaf=1, min_samples_split=10, n_estimators=100;, score=0.967 total time=   1.1s\n",
      "[CV 4/5] END max_depth=30, min_samples_leaf=1, min_samples_split=10, n_estimators=100;, score=0.958 total time=   1.2s\n",
      "[CV 5/5] END max_depth=30, min_samples_leaf=1, min_samples_split=10, n_estimators=100;, score=0.960 total time=   1.2s\n",
      "[CV 1/5] END max_depth=30, min_samples_leaf=1, min_samples_split=10, n_estimators=150;, score=0.958 total time=   1.8s\n",
      "[CV 2/5] END max_depth=30, min_samples_leaf=1, min_samples_split=10, n_estimators=150;, score=0.958 total time=   1.9s\n",
      "[CV 3/5] END max_depth=30, min_samples_leaf=1, min_samples_split=10, n_estimators=150;, score=0.965 total time=   1.7s\n",
      "[CV 4/5] END max_depth=30, min_samples_leaf=1, min_samples_split=10, n_estimators=150;, score=0.960 total time=   2.0s\n",
      "[CV 5/5] END max_depth=30, min_samples_leaf=1, min_samples_split=10, n_estimators=150;, score=0.959 total time=   1.6s\n",
      "[CV 1/5] END max_depth=30, min_samples_leaf=2, min_samples_split=2, n_estimators=50;, score=0.961 total time=   0.6s\n",
      "[CV 2/5] END max_depth=30, min_samples_leaf=2, min_samples_split=2, n_estimators=50;, score=0.953 total time=   0.6s\n",
      "[CV 3/5] END max_depth=30, min_samples_leaf=2, min_samples_split=2, n_estimators=50;, score=0.963 total time=   0.6s\n",
      "[CV 4/5] END max_depth=30, min_samples_leaf=2, min_samples_split=2, n_estimators=50;, score=0.960 total time=   0.6s\n",
      "[CV 5/5] END max_depth=30, min_samples_leaf=2, min_samples_split=2, n_estimators=50;, score=0.956 total time=   0.6s\n",
      "[CV 1/5] END max_depth=30, min_samples_leaf=2, min_samples_split=2, n_estimators=100;, score=0.961 total time=   1.3s\n",
      "[CV 2/5] END max_depth=30, min_samples_leaf=2, min_samples_split=2, n_estimators=100;, score=0.957 total time=   1.1s\n",
      "[CV 3/5] END max_depth=30, min_samples_leaf=2, min_samples_split=2, n_estimators=100;, score=0.963 total time=   1.2s\n",
      "[CV 4/5] END max_depth=30, min_samples_leaf=2, min_samples_split=2, n_estimators=100;, score=0.959 total time=   1.4s\n",
      "[CV 5/5] END max_depth=30, min_samples_leaf=2, min_samples_split=2, n_estimators=100;, score=0.961 total time=   1.3s\n",
      "[CV 1/5] END max_depth=30, min_samples_leaf=2, min_samples_split=2, n_estimators=150;, score=0.960 total time=   1.5s\n",
      "[CV 2/5] END max_depth=30, min_samples_leaf=2, min_samples_split=2, n_estimators=150;, score=0.955 total time=   1.7s\n",
      "[CV 3/5] END max_depth=30, min_samples_leaf=2, min_samples_split=2, n_estimators=150;, score=0.966 total time=   1.8s\n",
      "[CV 4/5] END max_depth=30, min_samples_leaf=2, min_samples_split=2, n_estimators=150;, score=0.962 total time=   1.6s\n",
      "[CV 5/5] END max_depth=30, min_samples_leaf=2, min_samples_split=2, n_estimators=150;, score=0.956 total time=   2.0s\n",
      "[CV 1/5] END max_depth=30, min_samples_leaf=2, min_samples_split=5, n_estimators=50;, score=0.957 total time=   0.5s\n",
      "[CV 2/5] END max_depth=30, min_samples_leaf=2, min_samples_split=5, n_estimators=50;, score=0.953 total time=   0.6s\n",
      "[CV 3/5] END max_depth=30, min_samples_leaf=2, min_samples_split=5, n_estimators=50;, score=0.968 total time=   0.6s\n",
      "[CV 4/5] END max_depth=30, min_samples_leaf=2, min_samples_split=5, n_estimators=50;, score=0.957 total time=   0.5s\n",
      "[CV 5/5] END max_depth=30, min_samples_leaf=2, min_samples_split=5, n_estimators=50;, score=0.958 total time=   0.5s\n",
      "[CV 1/5] END max_depth=30, min_samples_leaf=2, min_samples_split=5, n_estimators=100;, score=0.958 total time=   1.0s\n",
      "[CV 2/5] END max_depth=30, min_samples_leaf=2, min_samples_split=5, n_estimators=100;, score=0.954 total time=   1.1s\n",
      "[CV 3/5] END max_depth=30, min_samples_leaf=2, min_samples_split=5, n_estimators=100;, score=0.964 total time=   1.0s\n",
      "[CV 4/5] END max_depth=30, min_samples_leaf=2, min_samples_split=5, n_estimators=100;, score=0.960 total time=   1.2s\n",
      "[CV 5/5] END max_depth=30, min_samples_leaf=2, min_samples_split=5, n_estimators=100;, score=0.962 total time=   1.0s\n",
      "[CV 1/5] END max_depth=30, min_samples_leaf=2, min_samples_split=5, n_estimators=150;, score=0.958 total time=   1.6s\n",
      "[CV 2/5] END max_depth=30, min_samples_leaf=2, min_samples_split=5, n_estimators=150;, score=0.957 total time=   1.6s\n",
      "[CV 3/5] END max_depth=30, min_samples_leaf=2, min_samples_split=5, n_estimators=150;, score=0.964 total time=   1.7s\n",
      "[CV 4/5] END max_depth=30, min_samples_leaf=2, min_samples_split=5, n_estimators=150;, score=0.960 total time=   1.6s\n",
      "[CV 5/5] END max_depth=30, min_samples_leaf=2, min_samples_split=5, n_estimators=150;, score=0.962 total time=   1.5s\n",
      "[CV 1/5] END max_depth=30, min_samples_leaf=2, min_samples_split=10, n_estimators=50;, score=0.955 total time=   0.5s\n",
      "[CV 2/5] END max_depth=30, min_samples_leaf=2, min_samples_split=10, n_estimators=50;, score=0.952 total time=   0.5s\n",
      "[CV 3/5] END max_depth=30, min_samples_leaf=2, min_samples_split=10, n_estimators=50;, score=0.961 total time=   0.5s\n",
      "[CV 4/5] END max_depth=30, min_samples_leaf=2, min_samples_split=10, n_estimators=50;, score=0.960 total time=   0.5s\n",
      "[CV 5/5] END max_depth=30, min_samples_leaf=2, min_samples_split=10, n_estimators=50;, score=0.961 total time=   0.5s\n",
      "[CV 1/5] END max_depth=30, min_samples_leaf=2, min_samples_split=10, n_estimators=100;, score=0.958 total time=   1.1s\n",
      "[CV 2/5] END max_depth=30, min_samples_leaf=2, min_samples_split=10, n_estimators=100;, score=0.954 total time=   1.0s\n",
      "[CV 3/5] END max_depth=30, min_samples_leaf=2, min_samples_split=10, n_estimators=100;, score=0.964 total time=   1.0s\n",
      "[CV 4/5] END max_depth=30, min_samples_leaf=2, min_samples_split=10, n_estimators=100;, score=0.960 total time=   1.1s\n",
      "[CV 5/5] END max_depth=30, min_samples_leaf=2, min_samples_split=10, n_estimators=100;, score=0.957 total time=   1.0s\n",
      "[CV 1/5] END max_depth=30, min_samples_leaf=2, min_samples_split=10, n_estimators=150;, score=0.961 total time=   1.5s\n",
      "[CV 2/5] END max_depth=30, min_samples_leaf=2, min_samples_split=10, n_estimators=150;, score=0.957 total time=   1.8s\n",
      "[CV 3/5] END max_depth=30, min_samples_leaf=2, min_samples_split=10, n_estimators=150;, score=0.964 total time=   1.7s\n",
      "[CV 4/5] END max_depth=30, min_samples_leaf=2, min_samples_split=10, n_estimators=150;, score=0.960 total time=   1.5s\n",
      "[CV 5/5] END max_depth=30, min_samples_leaf=2, min_samples_split=10, n_estimators=150;, score=0.956 total time=   1.4s\n",
      "[CV 1/5] END max_depth=30, min_samples_leaf=4, min_samples_split=2, n_estimators=50;, score=0.959 total time=   0.4s\n",
      "[CV 2/5] END max_depth=30, min_samples_leaf=4, min_samples_split=2, n_estimators=50;, score=0.952 total time=   0.4s\n",
      "[CV 3/5] END max_depth=30, min_samples_leaf=4, min_samples_split=2, n_estimators=50;, score=0.963 total time=   0.4s\n",
      "[CV 4/5] END max_depth=30, min_samples_leaf=4, min_samples_split=2, n_estimators=50;, score=0.960 total time=   0.5s\n",
      "[CV 5/5] END max_depth=30, min_samples_leaf=4, min_samples_split=2, n_estimators=50;, score=0.956 total time=   0.5s\n",
      "[CV 1/5] END max_depth=30, min_samples_leaf=4, min_samples_split=2, n_estimators=100;, score=0.956 total time=   1.1s\n",
      "[CV 2/5] END max_depth=30, min_samples_leaf=4, min_samples_split=2, n_estimators=100;, score=0.955 total time=   1.0s\n",
      "[CV 3/5] END max_depth=30, min_samples_leaf=4, min_samples_split=2, n_estimators=100;, score=0.963 total time=   0.8s\n",
      "[CV 4/5] END max_depth=30, min_samples_leaf=4, min_samples_split=2, n_estimators=100;, score=0.957 total time=   0.9s\n",
      "[CV 5/5] END max_depth=30, min_samples_leaf=4, min_samples_split=2, n_estimators=100;, score=0.960 total time=   0.9s\n",
      "[CV 1/5] END max_depth=30, min_samples_leaf=4, min_samples_split=2, n_estimators=150;, score=0.959 total time=   1.5s\n",
      "[CV 2/5] END max_depth=30, min_samples_leaf=4, min_samples_split=2, n_estimators=150;, score=0.954 total time=   1.6s\n",
      "[CV 3/5] END max_depth=30, min_samples_leaf=4, min_samples_split=2, n_estimators=150;, score=0.960 total time=   1.6s\n",
      "[CV 4/5] END max_depth=30, min_samples_leaf=4, min_samples_split=2, n_estimators=150;, score=0.958 total time=   1.6s\n",
      "[CV 5/5] END max_depth=30, min_samples_leaf=4, min_samples_split=2, n_estimators=150;, score=0.958 total time=   1.7s\n",
      "[CV 1/5] END max_depth=30, min_samples_leaf=4, min_samples_split=5, n_estimators=50;, score=0.959 total time=   0.4s\n",
      "[CV 2/5] END max_depth=30, min_samples_leaf=4, min_samples_split=5, n_estimators=50;, score=0.953 total time=   0.5s\n",
      "[CV 3/5] END max_depth=30, min_samples_leaf=4, min_samples_split=5, n_estimators=50;, score=0.960 total time=   0.5s\n",
      "[CV 4/5] END max_depth=30, min_samples_leaf=4, min_samples_split=5, n_estimators=50;, score=0.959 total time=   0.4s\n",
      "[CV 5/5] END max_depth=30, min_samples_leaf=4, min_samples_split=5, n_estimators=50;, score=0.962 total time=   0.4s\n",
      "[CV 1/5] END max_depth=30, min_samples_leaf=4, min_samples_split=5, n_estimators=100;, score=0.958 total time=   1.0s\n",
      "[CV 2/5] END max_depth=30, min_samples_leaf=4, min_samples_split=5, n_estimators=100;, score=0.953 total time=   1.0s\n",
      "[CV 3/5] END max_depth=30, min_samples_leaf=4, min_samples_split=5, n_estimators=100;, score=0.962 total time=   1.0s\n",
      "[CV 4/5] END max_depth=30, min_samples_leaf=4, min_samples_split=5, n_estimators=100;, score=0.957 total time=   0.9s\n",
      "[CV 5/5] END max_depth=30, min_samples_leaf=4, min_samples_split=5, n_estimators=100;, score=0.959 total time=   1.0s\n",
      "[CV 1/5] END max_depth=30, min_samples_leaf=4, min_samples_split=5, n_estimators=150;, score=0.959 total time=   1.7s\n",
      "[CV 2/5] END max_depth=30, min_samples_leaf=4, min_samples_split=5, n_estimators=150;, score=0.956 total time=   1.7s\n",
      "[CV 3/5] END max_depth=30, min_samples_leaf=4, min_samples_split=5, n_estimators=150;, score=0.964 total time=   1.3s\n",
      "[CV 4/5] END max_depth=30, min_samples_leaf=4, min_samples_split=5, n_estimators=150;, score=0.960 total time=   1.5s\n",
      "[CV 5/5] END max_depth=30, min_samples_leaf=4, min_samples_split=5, n_estimators=150;, score=0.959 total time=   1.6s\n",
      "[CV 1/5] END max_depth=30, min_samples_leaf=4, min_samples_split=10, n_estimators=50;, score=0.956 total time=   0.4s\n",
      "[CV 2/5] END max_depth=30, min_samples_leaf=4, min_samples_split=10, n_estimators=50;, score=0.952 total time=   0.4s\n",
      "[CV 3/5] END max_depth=30, min_samples_leaf=4, min_samples_split=10, n_estimators=50;, score=0.962 total time=   0.4s\n",
      "[CV 4/5] END max_depth=30, min_samples_leaf=4, min_samples_split=10, n_estimators=50;, score=0.958 total time=   0.4s\n",
      "[CV 5/5] END max_depth=30, min_samples_leaf=4, min_samples_split=10, n_estimators=50;, score=0.957 total time=   0.4s\n",
      "[CV 1/5] END max_depth=30, min_samples_leaf=4, min_samples_split=10, n_estimators=100;, score=0.956 total time=   1.1s\n",
      "[CV 2/5] END max_depth=30, min_samples_leaf=4, min_samples_split=10, n_estimators=100;, score=0.953 total time=   1.0s\n",
      "[CV 3/5] END max_depth=30, min_samples_leaf=4, min_samples_split=10, n_estimators=100;, score=0.962 total time=   1.1s\n",
      "[CV 4/5] END max_depth=30, min_samples_leaf=4, min_samples_split=10, n_estimators=100;, score=0.957 total time=   1.1s\n",
      "[CV 5/5] END max_depth=30, min_samples_leaf=4, min_samples_split=10, n_estimators=100;, score=0.958 total time=   1.1s\n",
      "[CV 1/5] END max_depth=30, min_samples_leaf=4, min_samples_split=10, n_estimators=150;, score=0.956 total time=   1.7s\n",
      "[CV 2/5] END max_depth=30, min_samples_leaf=4, min_samples_split=10, n_estimators=150;, score=0.956 total time=   1.6s\n",
      "[CV 3/5] END max_depth=30, min_samples_leaf=4, min_samples_split=10, n_estimators=150;, score=0.962 total time=   1.5s\n",
      "[CV 4/5] END max_depth=30, min_samples_leaf=4, min_samples_split=10, n_estimators=150;, score=0.961 total time=   1.5s\n",
      "[CV 5/5] END max_depth=30, min_samples_leaf=4, min_samples_split=10, n_estimators=150;, score=0.959 total time=   1.5s\n",
      "Best Hyperparameters: {'max_depth': None, 'min_samples_leaf': 1, 'min_samples_split': 2, 'n_estimators': 100}\n",
      "Test Accuracy: 0.9671916010498688\n"
     ]
    }
   ],
   "source": [
    "param_grid = {\n",
    "    'n_estimators': [50, 100, 150],\n",
    "    'max_depth': [None, 10, 20, 30],\n",
    "    'min_samples_split': [2, 5, 10],\n",
    "    'min_samples_leaf': [1, 2, 4]\n",
    "}\n",
    "\n",
    "# Create the GridSearchCV object\n",
    "grid_search = GridSearchCV(estimator=rfc, param_grid=param_grid, cv=5, scoring='accuracy', verbose=3)\n",
    "\n",
    "# Fit the model to the data\n",
    "grid_search.fit(X_train_scaled, y_train)\n",
    "\n",
    "# Print the best hyperparameters\n",
    "print(\"Best Hyperparameters:\", grid_search.best_params_)\n",
    "\n",
    "# Make predictions on the test set using the best model\n",
    "y_pred = grid_search.best_estimator_.predict(X_test_scaled)\n",
    "\n",
    "# Calculate and print the accuracy\n",
    "accuracy = accuracy_score(y_test, y_pred)\n",
    "print(\"Test Accuracy:\", accuracy)"
   ]
  },
  {
   "cell_type": "code",
   "execution_count": null,
   "id": "294c480b-052b-48d7-b667-08d3239f7fbe",
   "metadata": {},
   "outputs": [],
   "source": []
  }
 ],
 "metadata": {
  "kernelspec": {
   "display_name": "Python 3 (ipykernel)",
   "language": "python",
   "name": "python3"
  },
  "language_info": {
   "codemirror_mode": {
    "name": "ipython",
    "version": 3
   },
   "file_extension": ".py",
   "mimetype": "text/x-python",
   "name": "python",
   "nbconvert_exporter": "python",
   "pygments_lexer": "ipython3",
   "version": "3.11.2"
  }
 },
 "nbformat": 4,
 "nbformat_minor": 5
}
