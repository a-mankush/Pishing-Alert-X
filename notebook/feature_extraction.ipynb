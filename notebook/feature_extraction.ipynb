{
 "cells": [
  {
   "cell_type": "code",
   "execution_count": 96,
   "metadata": {},
   "outputs": [],
   "source": [
    "import pandas as pd \n",
    "import re"
   ]
  },
  {
   "cell_type": "code",
   "execution_count": 21,
   "metadata": {},
   "outputs": [],
   "source": [
    "df = pd.read_csv(\"data/dataset_B_05_2020.csv\")\n",
    "url_df = df[['url', \"status\"]]"
   ]
  },
  {
   "cell_type": "code",
   "execution_count": 22,
   "metadata": {},
   "outputs": [
    {
     "data": {
      "text/html": [
       "<div>\n",
       "<style scoped>\n",
       "    .dataframe tbody tr th:only-of-type {\n",
       "        vertical-align: middle;\n",
       "    }\n",
       "\n",
       "    .dataframe tbody tr th {\n",
       "        vertical-align: top;\n",
       "    }\n",
       "\n",
       "    .dataframe thead th {\n",
       "        text-align: right;\n",
       "    }\n",
       "</style>\n",
       "<table border=\"1\" class=\"dataframe\">\n",
       "  <thead>\n",
       "    <tr style=\"text-align: right;\">\n",
       "      <th></th>\n",
       "      <th>url</th>\n",
       "      <th>status</th>\n",
       "    </tr>\n",
       "  </thead>\n",
       "  <tbody>\n",
       "    <tr>\n",
       "      <th>0</th>\n",
       "      <td>http://www.crestonwood.com/router.php</td>\n",
       "      <td>legitimate</td>\n",
       "    </tr>\n",
       "    <tr>\n",
       "      <th>1</th>\n",
       "      <td>http://shadetreetechnology.com/V4/validation/a...</td>\n",
       "      <td>phishing</td>\n",
       "    </tr>\n",
       "    <tr>\n",
       "      <th>2</th>\n",
       "      <td>https://support-appleld.com.secureupdate.duila...</td>\n",
       "      <td>phishing</td>\n",
       "    </tr>\n",
       "    <tr>\n",
       "      <th>3</th>\n",
       "      <td>http://rgipt.ac.in</td>\n",
       "      <td>legitimate</td>\n",
       "    </tr>\n",
       "    <tr>\n",
       "      <th>4</th>\n",
       "      <td>http://www.iracing.com/tracks/gateway-motorspo...</td>\n",
       "      <td>legitimate</td>\n",
       "    </tr>\n",
       "  </tbody>\n",
       "</table>\n",
       "</div>"
      ],
      "text/plain": [
       "                                                 url      status\n",
       "0              http://www.crestonwood.com/router.php  legitimate\n",
       "1  http://shadetreetechnology.com/V4/validation/a...    phishing\n",
       "2  https://support-appleld.com.secureupdate.duila...    phishing\n",
       "3                                 http://rgipt.ac.in  legitimate\n",
       "4  http://www.iracing.com/tracks/gateway-motorspo...  legitimate"
      ]
     },
     "execution_count": 22,
     "metadata": {},
     "output_type": "execute_result"
    }
   ],
   "source": [
    "url_df.head()"
   ]
  },
  {
   "cell_type": "code",
   "execution_count": 23,
   "metadata": {},
   "outputs": [
    {
     "data": {
      "text/plain": [
       "Index(['url', 'length_url', 'length_hostname', 'ip', 'nb_dots', 'nb_hyphens',\n",
       "       'nb_at', 'nb_qm', 'nb_and', 'nb_or', 'nb_eq', 'nb_underscore',\n",
       "       'nb_tilde', 'nb_percent', 'nb_slash', 'nb_star', 'nb_colon', 'nb_comma',\n",
       "       'nb_semicolumn', 'nb_dollar', 'nb_space', 'nb_www', 'nb_com',\n",
       "       'nb_dslash', 'http_in_path', 'https_token', 'ratio_digits_url',\n",
       "       'ratio_digits_host', 'punycode', 'port', 'tld_in_path',\n",
       "       'tld_in_subdomain', 'abnormal_subdomain', 'nb_subdomains',\n",
       "       'prefix_suffix', 'random_domain', 'shortening_service',\n",
       "       'path_extension', 'nb_redirection', 'nb_external_redirection',\n",
       "       'length_words_raw', 'char_repeat', 'shortest_words_raw',\n",
       "       'shortest_word_host', 'shortest_word_path', 'longest_words_raw',\n",
       "       'longest_word_host', 'longest_word_path', 'avg_words_raw',\n",
       "       'avg_word_host', 'avg_word_path', 'phish_hints', 'domain_in_brand',\n",
       "       'brand_in_subdomain', 'brand_in_path', 'suspecious_tld',\n",
       "       'statistical_report', 'nb_hyperlinks', 'ratio_intHyperlinks',\n",
       "       'ratio_extHyperlinks', 'ratio_nullHyperlinks', 'nb_extCSS',\n",
       "       'ratio_intRedirection', 'ratio_extRedirection', 'ratio_intErrors',\n",
       "       'ratio_extErrors', 'login_form', 'external_favicon', 'links_in_tags',\n",
       "       'submit_email', 'ratio_intMedia', 'ratio_extMedia', 'sfh', 'iframe',\n",
       "       'popup_window', 'safe_anchor', 'onmouseover', 'right_clic',\n",
       "       'empty_title', 'domain_in_title', 'domain_with_copyright',\n",
       "       'whois_registered_domain', 'domain_registration_length', 'domain_age',\n",
       "       'web_traffic', 'dns_record', 'google_index', 'page_rank', 'status'],\n",
       "      dtype='object')"
      ]
     },
     "execution_count": 23,
     "metadata": {},
     "output_type": "execute_result"
    }
   ],
   "source": [
    "df.columns"
   ]
  },
  {
   "cell_type": "code",
   "execution_count": null,
   "metadata": {},
   "outputs": [],
   "source": [
    "# length_url\n",
    "url_df['url'].apply(lambda x: len(x))\n",
    "\n",
    "# length_hostname\n",
    "url_df['url'].apply(lambda x: len(x.split(\"/\")[2]))\n",
    "\n",
    "# nb_dot\n",
    "url_df['url'].apply(lambda x: x.count(\".\"))\n",
    "\n",
    "# nb_hyphens\n",
    "url_df['url'].apply(lambda x: x.count(\"-\"))\n",
    "\n",
    "# nb_at\n",
    "url_df['url'].apply(lambda x: x.count(\"@\"))\n",
    "\n",
    "# nb_qm\n",
    "url_df['url'].apply(lambda x: x.count(\"?\"))\n",
    "\n",
    "# nb_and\n",
    "url_df['url'].apply(lambda x: x.count(\"&\"))\n",
    "\n",
    "# nb_eq\n",
    "url_df['url'].apply(lambda x: x.count(\"=\"))\n",
    "\n",
    "# nb_underscore\n",
    "url_df['url'].apply(lambda x: x.count(\"-\"))\n",
    "\n",
    "# nb_tilde\n",
    "url_df['url'].apply(lambda x: x.count(\"~\"))\n",
    "\n",
    "# nb_percentage\n",
    "url_df['url'].apply(lambda x: x.count(\"%\"))\n",
    "\n",
    "# nb_slash\n",
    "url_df['url'].apply(lambda x: x.count(\"/\"))\n",
    "\n",
    "# nb_star\n",
    "# Note: We only have 8 url with stars in our data set\n",
    "url_df['url'].apply(lambda x: x.count(\"*\"))\n",
    "\n",
    "# nb_colon\n",
    "url_df['url'].apply(lambda x: x.count(\":\"))\n",
    "\n",
    "# nb_comma\n",
    "url_df['url'].apply(lambda x: x.count(\",\"))\n",
    "\n",
    "# nb_semicolumn\n",
    "url_df['url'].apply(lambda x: x.count(\";\"))\n",
    "\n",
    "# nb_doller\n",
    "url_df['url'].apply(lambda x: x.count(\"$\"))\n",
    "\n",
    "# nb_space\n",
    "# Note: Result is not matching\n",
    "url_df['url'].apply(lambda x: x.count(\" \"))\n",
    "\n",
    "# nb_www\n",
    "url_df['url'].apply(lambda x: x.count(\"www\"))\n",
    "\n",
    "# nb_com\n",
    "url_df['url'].apply(lambda x: x.count(\"com\"))\n",
    "\n",
    "# nb_dslash\n",
    "# Note: Result is not matching\n",
    "url_df['url'].apply(lambda x: x.count(\"//\"))\n",
    "\n",
    "# https token\n",
    "url_df['url'].apply(lambda x: 0 if \"https\" in x else 1)\n",
    "\n",
    "# http_in_path \n",
    "# Note some percentage of values are not matching (but maximum are)\n",
    "url_df['url'].apply(lambda url: (\"\".join(url.split('/')[1:])).count(\"http\"))\n",
    "\n"
   ]
  }
 ],
 "metadata": {
  "kernelspec": {
   "display_name": "Python 3 (ipykernel)",
   "language": "python",
   "name": "python3"
  },
  "language_info": {
   "codemirror_mode": {
    "name": "ipython",
    "version": 3
   },
   "file_extension": ".py",
   "mimetype": "text/x-python",
   "name": "python",
   "nbconvert_exporter": "python",
   "pygments_lexer": "ipython3",
   "version": "3.11.5"
  }
 },
 "nbformat": 4,
 "nbformat_minor": 4
}
