import pandas as pd 


df = pd.read_csv("data/dataset_B_05_2020.csv")



